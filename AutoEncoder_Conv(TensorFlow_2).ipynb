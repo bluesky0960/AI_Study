{
  "nbformat": 4,
  "nbformat_minor": 0,
  "metadata": {
    "colab": {
      "name": "AutoEncoder - Conv(TensorFlow 2)",
      "provenance": [],
      "collapsed_sections": [],
      "include_colab_link": true
    },
    "kernelspec": {
      "name": "python3",
      "display_name": "Python 3"
    },
    "accelerator": "GPU",
    "widgets": {
      "application/vnd.jupyter.widget-state+json": {
        "87637847a50e43878c00086c4b1a5591": {
          "model_module": "@jupyter-widgets/controls",
          "model_name": "VBoxModel",
          "state": {
            "_view_name": "VBoxView",
            "_dom_classes": [
              "widget-interact"
            ],
            "_model_name": "VBoxModel",
            "_view_module": "@jupyter-widgets/controls",
            "_model_module_version": "1.5.0",
            "_view_count": null,
            "_view_module_version": "1.5.0",
            "box_style": "",
            "layout": "IPY_MODEL_72ee3190f98d4160bc698197ae626337",
            "_model_module": "@jupyter-widgets/controls",
            "children": [
              "IPY_MODEL_c89c02d2946f496ab093a1a11ab678f8",
              "IPY_MODEL_fa81a8a9c47248bdb158f5f0aae53b0f"
            ]
          }
        },
        "72ee3190f98d4160bc698197ae626337": {
          "model_module": "@jupyter-widgets/base",
          "model_name": "LayoutModel",
          "state": {
            "_view_name": "LayoutView",
            "grid_template_rows": null,
            "right": null,
            "justify_content": null,
            "_view_module": "@jupyter-widgets/base",
            "overflow": null,
            "_model_module_version": "1.2.0",
            "_view_count": null,
            "flex_flow": null,
            "width": null,
            "min_width": null,
            "border": null,
            "align_items": null,
            "bottom": null,
            "_model_module": "@jupyter-widgets/base",
            "top": null,
            "grid_column": null,
            "overflow_y": null,
            "overflow_x": null,
            "grid_auto_flow": null,
            "grid_area": null,
            "grid_template_columns": null,
            "flex": null,
            "_model_name": "LayoutModel",
            "justify_items": null,
            "grid_row": null,
            "max_height": null,
            "align_content": null,
            "visibility": null,
            "align_self": null,
            "height": null,
            "min_height": null,
            "padding": null,
            "grid_auto_rows": null,
            "grid_gap": null,
            "max_width": null,
            "order": null,
            "_view_module_version": "1.2.0",
            "grid_template_areas": null,
            "object_position": null,
            "object_fit": null,
            "grid_auto_columns": null,
            "margin": null,
            "display": null,
            "left": null
          }
        },
        "c89c02d2946f496ab093a1a11ab678f8": {
          "model_module": "@jupyter-widgets/controls",
          "model_name": "IntSliderModel",
          "state": {
            "_view_name": "IntSliderView",
            "style": "IPY_MODEL_dfef7ed985c34bbd8082d95e97a6e5e2",
            "_dom_classes": [],
            "description": "idx",
            "step": 1,
            "_model_name": "IntSliderModel",
            "orientation": "horizontal",
            "max": 59999,
            "_view_module": "@jupyter-widgets/controls",
            "_model_module_version": "1.5.0",
            "value": 0,
            "_view_count": null,
            "disabled": false,
            "_view_module_version": "1.5.0",
            "min": 0,
            "continuous_update": false,
            "readout_format": "d",
            "description_tooltip": null,
            "readout": true,
            "_model_module": "@jupyter-widgets/controls",
            "layout": "IPY_MODEL_7dbbf62371d94a8dbfa6e68233f81957"
          }
        },
        "fa81a8a9c47248bdb158f5f0aae53b0f": {
          "model_module": "@jupyter-widgets/output",
          "model_name": "OutputModel",
          "state": {
            "_view_name": "OutputView",
            "msg_id": "",
            "_dom_classes": [],
            "_model_name": "OutputModel",
            "outputs": [
              {
                "output_type": "stream",
                "metadata": {
                  "tags": []
                },
                "text": "GT label: 5\n",
                "stream": "stdout"
              },
              {
                "output_type": "display_data",
                "metadata": {
                  "tags": [],
                  "needs_background": "light"
                },
                "image/png": "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\n",
                "text/plain": "<Figure size 432x288 with 2 Axes>"
              }
            ],
            "_view_module": "@jupyter-widgets/output",
            "_model_module_version": "1.0.0",
            "_view_count": null,
            "_view_module_version": "1.0.0",
            "layout": "IPY_MODEL_864760f4359c427881a1be91a6934386",
            "_model_module": "@jupyter-widgets/output"
          }
        },
        "dfef7ed985c34bbd8082d95e97a6e5e2": {
          "model_module": "@jupyter-widgets/controls",
          "model_name": "SliderStyleModel",
          "state": {
            "_view_name": "StyleView",
            "handle_color": null,
            "_model_name": "SliderStyleModel",
            "description_width": "",
            "_view_module": "@jupyter-widgets/base",
            "_model_module_version": "1.5.0",
            "_view_count": null,
            "_view_module_version": "1.2.0",
            "_model_module": "@jupyter-widgets/controls"
          }
        },
        "7dbbf62371d94a8dbfa6e68233f81957": {
          "model_module": "@jupyter-widgets/base",
          "model_name": "LayoutModel",
          "state": {
            "_view_name": "LayoutView",
            "grid_template_rows": null,
            "right": null,
            "justify_content": null,
            "_view_module": "@jupyter-widgets/base",
            "overflow": null,
            "_model_module_version": "1.2.0",
            "_view_count": null,
            "flex_flow": null,
            "width": null,
            "min_width": null,
            "border": null,
            "align_items": null,
            "bottom": null,
            "_model_module": "@jupyter-widgets/base",
            "top": null,
            "grid_column": null,
            "overflow_y": null,
            "overflow_x": null,
            "grid_auto_flow": null,
            "grid_area": null,
            "grid_template_columns": null,
            "flex": null,
            "_model_name": "LayoutModel",
            "justify_items": null,
            "grid_row": null,
            "max_height": null,
            "align_content": null,
            "visibility": null,
            "align_self": null,
            "height": null,
            "min_height": null,
            "padding": null,
            "grid_auto_rows": null,
            "grid_gap": null,
            "max_width": null,
            "order": null,
            "_view_module_version": "1.2.0",
            "grid_template_areas": null,
            "object_position": null,
            "object_fit": null,
            "grid_auto_columns": null,
            "margin": null,
            "display": null,
            "left": null
          }
        },
        "864760f4359c427881a1be91a6934386": {
          "model_module": "@jupyter-widgets/base",
          "model_name": "LayoutModel",
          "state": {
            "_view_name": "LayoutView",
            "grid_template_rows": null,
            "right": null,
            "justify_content": null,
            "_view_module": "@jupyter-widgets/base",
            "overflow": null,
            "_model_module_version": "1.2.0",
            "_view_count": null,
            "flex_flow": null,
            "width": null,
            "min_width": null,
            "border": null,
            "align_items": null,
            "bottom": null,
            "_model_module": "@jupyter-widgets/base",
            "top": null,
            "grid_column": null,
            "overflow_y": null,
            "overflow_x": null,
            "grid_auto_flow": null,
            "grid_area": null,
            "grid_template_columns": null,
            "flex": null,
            "_model_name": "LayoutModel",
            "justify_items": null,
            "grid_row": null,
            "max_height": null,
            "align_content": null,
            "visibility": null,
            "align_self": null,
            "height": null,
            "min_height": null,
            "padding": null,
            "grid_auto_rows": null,
            "grid_gap": null,
            "max_width": null,
            "order": null,
            "_view_module_version": "1.2.0",
            "grid_template_areas": null,
            "object_position": null,
            "object_fit": null,
            "grid_auto_columns": null,
            "margin": null,
            "display": null,
            "left": null
          }
        },
        "6cfc3e5e03264f6aa9150a090298ecb3": {
          "model_module": "@jupyter-widgets/controls",
          "model_name": "VBoxModel",
          "state": {
            "_view_name": "VBoxView",
            "_dom_classes": [
              "widget-interact"
            ],
            "_model_name": "VBoxModel",
            "_view_module": "@jupyter-widgets/controls",
            "_model_module_version": "1.5.0",
            "_view_count": null,
            "_view_module_version": "1.5.0",
            "box_style": "",
            "layout": "IPY_MODEL_83405c2319ed48b993648cc4fad6d6db",
            "_model_module": "@jupyter-widgets/controls",
            "children": [
              "IPY_MODEL_986e11442e244a959c9970fed4a59e85",
              "IPY_MODEL_c0b799a5d63b45969d044896b295ae4a"
            ]
          }
        },
        "83405c2319ed48b993648cc4fad6d6db": {
          "model_module": "@jupyter-widgets/base",
          "model_name": "LayoutModel",
          "state": {
            "_view_name": "LayoutView",
            "grid_template_rows": null,
            "right": null,
            "justify_content": null,
            "_view_module": "@jupyter-widgets/base",
            "overflow": null,
            "_model_module_version": "1.2.0",
            "_view_count": null,
            "flex_flow": null,
            "width": null,
            "min_width": null,
            "border": null,
            "align_items": null,
            "bottom": null,
            "_model_module": "@jupyter-widgets/base",
            "top": null,
            "grid_column": null,
            "overflow_y": null,
            "overflow_x": null,
            "grid_auto_flow": null,
            "grid_area": null,
            "grid_template_columns": null,
            "flex": null,
            "_model_name": "LayoutModel",
            "justify_items": null,
            "grid_row": null,
            "max_height": null,
            "align_content": null,
            "visibility": null,
            "align_self": null,
            "height": null,
            "min_height": null,
            "padding": null,
            "grid_auto_rows": null,
            "grid_gap": null,
            "max_width": null,
            "order": null,
            "_view_module_version": "1.2.0",
            "grid_template_areas": null,
            "object_position": null,
            "object_fit": null,
            "grid_auto_columns": null,
            "margin": null,
            "display": null,
            "left": null
          }
        },
        "986e11442e244a959c9970fed4a59e85": {
          "model_module": "@jupyter-widgets/controls",
          "model_name": "IntSliderModel",
          "state": {
            "_view_name": "IntSliderView",
            "style": "IPY_MODEL_81c47fadb7ed4219bd3014d670c64cee",
            "_dom_classes": [],
            "description": "idx",
            "step": 1,
            "_model_name": "IntSliderModel",
            "orientation": "horizontal",
            "max": 59999,
            "_view_module": "@jupyter-widgets/controls",
            "_model_module_version": "1.5.0",
            "value": 24713,
            "_view_count": null,
            "disabled": false,
            "_view_module_version": "1.5.0",
            "min": 0,
            "continuous_update": false,
            "readout_format": "d",
            "description_tooltip": null,
            "readout": true,
            "_model_module": "@jupyter-widgets/controls",
            "layout": "IPY_MODEL_37f6fa5fef9a413b9bc1bd602c51dd77"
          }
        },
        "c0b799a5d63b45969d044896b295ae4a": {
          "model_module": "@jupyter-widgets/output",
          "model_name": "OutputModel",
          "state": {
            "_view_name": "OutputView",
            "msg_id": "",
            "_dom_classes": [],
            "_model_name": "OutputModel",
            "outputs": [
              {
                "output_type": "stream",
                "metadata": {
                  "tags": []
                },
                "text": "GT label: 4\n",
                "stream": "stdout"
              },
              {
                "output_type": "display_data",
                "metadata": {
                  "tags": [],
                  "needs_background": "light"
                },
                "image/png": "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\n",
                "text/plain": "<Figure size 432x288 with 2 Axes>"
              }
            ],
            "_view_module": "@jupyter-widgets/output",
            "_model_module_version": "1.0.0",
            "_view_count": null,
            "_view_module_version": "1.0.0",
            "layout": "IPY_MODEL_1fc8bd61e54043f7be0fbdff37ce76ef",
            "_model_module": "@jupyter-widgets/output"
          }
        },
        "81c47fadb7ed4219bd3014d670c64cee": {
          "model_module": "@jupyter-widgets/controls",
          "model_name": "SliderStyleModel",
          "state": {
            "_view_name": "StyleView",
            "handle_color": null,
            "_model_name": "SliderStyleModel",
            "description_width": "",
            "_view_module": "@jupyter-widgets/base",
            "_model_module_version": "1.5.0",
            "_view_count": null,
            "_view_module_version": "1.2.0",
            "_model_module": "@jupyter-widgets/controls"
          }
        },
        "37f6fa5fef9a413b9bc1bd602c51dd77": {
          "model_module": "@jupyter-widgets/base",
          "model_name": "LayoutModel",
          "state": {
            "_view_name": "LayoutView",
            "grid_template_rows": null,
            "right": null,
            "justify_content": null,
            "_view_module": "@jupyter-widgets/base",
            "overflow": null,
            "_model_module_version": "1.2.0",
            "_view_count": null,
            "flex_flow": null,
            "width": null,
            "min_width": null,
            "border": null,
            "align_items": null,
            "bottom": null,
            "_model_module": "@jupyter-widgets/base",
            "top": null,
            "grid_column": null,
            "overflow_y": null,
            "overflow_x": null,
            "grid_auto_flow": null,
            "grid_area": null,
            "grid_template_columns": null,
            "flex": null,
            "_model_name": "LayoutModel",
            "justify_items": null,
            "grid_row": null,
            "max_height": null,
            "align_content": null,
            "visibility": null,
            "align_self": null,
            "height": null,
            "min_height": null,
            "padding": null,
            "grid_auto_rows": null,
            "grid_gap": null,
            "max_width": null,
            "order": null,
            "_view_module_version": "1.2.0",
            "grid_template_areas": null,
            "object_position": null,
            "object_fit": null,
            "grid_auto_columns": null,
            "margin": null,
            "display": null,
            "left": null
          }
        },
        "1fc8bd61e54043f7be0fbdff37ce76ef": {
          "model_module": "@jupyter-widgets/base",
          "model_name": "LayoutModel",
          "state": {
            "_view_name": "LayoutView",
            "grid_template_rows": null,
            "right": null,
            "justify_content": null,
            "_view_module": "@jupyter-widgets/base",
            "overflow": null,
            "_model_module_version": "1.2.0",
            "_view_count": null,
            "flex_flow": null,
            "width": null,
            "min_width": null,
            "border": null,
            "align_items": null,
            "bottom": null,
            "_model_module": "@jupyter-widgets/base",
            "top": null,
            "grid_column": null,
            "overflow_y": null,
            "overflow_x": null,
            "grid_auto_flow": null,
            "grid_area": null,
            "grid_template_columns": null,
            "flex": null,
            "_model_name": "LayoutModel",
            "justify_items": null,
            "grid_row": null,
            "max_height": null,
            "align_content": null,
            "visibility": null,
            "align_self": null,
            "height": null,
            "min_height": null,
            "padding": null,
            "grid_auto_rows": null,
            "grid_gap": null,
            "max_width": null,
            "order": null,
            "_view_module_version": "1.2.0",
            "grid_template_areas": null,
            "object_position": null,
            "object_fit": null,
            "grid_auto_columns": null,
            "margin": null,
            "display": null,
            "left": null
          }
        },
        "633afce082374f88bc719ebd74066b3d": {
          "model_module": "@jupyter-widgets/controls",
          "model_name": "VBoxModel",
          "state": {
            "_view_name": "VBoxView",
            "_dom_classes": [
              "widget-interact"
            ],
            "_model_name": "VBoxModel",
            "_view_module": "@jupyter-widgets/controls",
            "_model_module_version": "1.5.0",
            "_view_count": null,
            "_view_module_version": "1.5.0",
            "box_style": "",
            "layout": "IPY_MODEL_689f438ac89643158ca02682d64331eb",
            "_model_module": "@jupyter-widgets/controls",
            "children": [
              "IPY_MODEL_0a510fe443514e20a78239b7ab396945",
              "IPY_MODEL_edbb2db863484e06ad90655356167e42"
            ]
          }
        },
        "689f438ac89643158ca02682d64331eb": {
          "model_module": "@jupyter-widgets/base",
          "model_name": "LayoutModel",
          "state": {
            "_view_name": "LayoutView",
            "grid_template_rows": null,
            "right": null,
            "justify_content": null,
            "_view_module": "@jupyter-widgets/base",
            "overflow": null,
            "_model_module_version": "1.2.0",
            "_view_count": null,
            "flex_flow": null,
            "width": null,
            "min_width": null,
            "border": null,
            "align_items": null,
            "bottom": null,
            "_model_module": "@jupyter-widgets/base",
            "top": null,
            "grid_column": null,
            "overflow_y": null,
            "overflow_x": null,
            "grid_auto_flow": null,
            "grid_area": null,
            "grid_template_columns": null,
            "flex": null,
            "_model_name": "LayoutModel",
            "justify_items": null,
            "grid_row": null,
            "max_height": null,
            "align_content": null,
            "visibility": null,
            "align_self": null,
            "height": null,
            "min_height": null,
            "padding": null,
            "grid_auto_rows": null,
            "grid_gap": null,
            "max_width": null,
            "order": null,
            "_view_module_version": "1.2.0",
            "grid_template_areas": null,
            "object_position": null,
            "object_fit": null,
            "grid_auto_columns": null,
            "margin": null,
            "display": null,
            "left": null
          }
        },
        "0a510fe443514e20a78239b7ab396945": {
          "model_module": "@jupyter-widgets/controls",
          "model_name": "IntSliderModel",
          "state": {
            "_view_name": "IntSliderView",
            "style": "IPY_MODEL_3706413b22304b7fa1cfa4db930571b4",
            "_dom_classes": [],
            "description": "idx",
            "step": 1,
            "_model_name": "IntSliderModel",
            "orientation": "horizontal",
            "max": 59999,
            "_view_module": "@jupyter-widgets/controls",
            "_model_module_version": "1.5.0",
            "value": 0,
            "_view_count": null,
            "disabled": false,
            "_view_module_version": "1.5.0",
            "min": 0,
            "continuous_update": true,
            "readout_format": "d",
            "description_tooltip": null,
            "readout": true,
            "_model_module": "@jupyter-widgets/controls",
            "layout": "IPY_MODEL_22d9d9836a4b46da839587ce2d35c42e"
          }
        },
        "edbb2db863484e06ad90655356167e42": {
          "model_module": "@jupyter-widgets/output",
          "model_name": "OutputModel",
          "state": {
            "_view_name": "OutputView",
            "msg_id": "",
            "_dom_classes": [],
            "_model_name": "OutputModel",
            "outputs": [
              {
                "output_type": "stream",
                "metadata": {
                  "tags": []
                },
                "text": "tf.Tensor([ 0.30130005 -0.5038106 ], shape=(2,), dtype=float32)\nGT label: 5\n",
                "stream": "stdout"
              }
            ],
            "_view_module": "@jupyter-widgets/output",
            "_model_module_version": "1.0.0",
            "_view_count": null,
            "_view_module_version": "1.0.0",
            "layout": "IPY_MODEL_0c7b20a026564dc9adb8c1529c724b6a",
            "_model_module": "@jupyter-widgets/output"
          }
        },
        "3706413b22304b7fa1cfa4db930571b4": {
          "model_module": "@jupyter-widgets/controls",
          "model_name": "SliderStyleModel",
          "state": {
            "_view_name": "StyleView",
            "handle_color": null,
            "_model_name": "SliderStyleModel",
            "description_width": "",
            "_view_module": "@jupyter-widgets/base",
            "_model_module_version": "1.5.0",
            "_view_count": null,
            "_view_module_version": "1.2.0",
            "_model_module": "@jupyter-widgets/controls"
          }
        },
        "22d9d9836a4b46da839587ce2d35c42e": {
          "model_module": "@jupyter-widgets/base",
          "model_name": "LayoutModel",
          "state": {
            "_view_name": "LayoutView",
            "grid_template_rows": null,
            "right": null,
            "justify_content": null,
            "_view_module": "@jupyter-widgets/base",
            "overflow": null,
            "_model_module_version": "1.2.0",
            "_view_count": null,
            "flex_flow": null,
            "width": null,
            "min_width": null,
            "border": null,
            "align_items": null,
            "bottom": null,
            "_model_module": "@jupyter-widgets/base",
            "top": null,
            "grid_column": null,
            "overflow_y": null,
            "overflow_x": null,
            "grid_auto_flow": null,
            "grid_area": null,
            "grid_template_columns": null,
            "flex": null,
            "_model_name": "LayoutModel",
            "justify_items": null,
            "grid_row": null,
            "max_height": null,
            "align_content": null,
            "visibility": null,
            "align_self": null,
            "height": null,
            "min_height": null,
            "padding": null,
            "grid_auto_rows": null,
            "grid_gap": null,
            "max_width": null,
            "order": null,
            "_view_module_version": "1.2.0",
            "grid_template_areas": null,
            "object_position": null,
            "object_fit": null,
            "grid_auto_columns": null,
            "margin": null,
            "display": null,
            "left": null
          }
        },
        "0c7b20a026564dc9adb8c1529c724b6a": {
          "model_module": "@jupyter-widgets/base",
          "model_name": "LayoutModel",
          "state": {
            "_view_name": "LayoutView",
            "grid_template_rows": null,
            "right": null,
            "justify_content": null,
            "_view_module": "@jupyter-widgets/base",
            "overflow": null,
            "_model_module_version": "1.2.0",
            "_view_count": null,
            "flex_flow": null,
            "width": null,
            "min_width": null,
            "border": null,
            "align_items": null,
            "bottom": null,
            "_model_module": "@jupyter-widgets/base",
            "top": null,
            "grid_column": null,
            "overflow_y": null,
            "overflow_x": null,
            "grid_auto_flow": null,
            "grid_area": null,
            "grid_template_columns": null,
            "flex": null,
            "_model_name": "LayoutModel",
            "justify_items": null,
            "grid_row": null,
            "max_height": null,
            "align_content": null,
            "visibility": null,
            "align_self": null,
            "height": null,
            "min_height": null,
            "padding": null,
            "grid_auto_rows": null,
            "grid_gap": null,
            "max_width": null,
            "order": null,
            "_view_module_version": "1.2.0",
            "grid_template_areas": null,
            "object_position": null,
            "object_fit": null,
            "grid_auto_columns": null,
            "margin": null,
            "display": null,
            "left": null
          }
        },
        "a3f62c82183044c9bd2bf33427f277d6": {
          "model_module": "@jupyter-widgets/controls",
          "model_name": "HBoxModel",
          "state": {
            "_view_name": "HBoxView",
            "_dom_classes": [],
            "_model_name": "HBoxModel",
            "_view_module": "@jupyter-widgets/controls",
            "_model_module_version": "1.5.0",
            "_view_count": null,
            "_view_module_version": "1.5.0",
            "box_style": "",
            "layout": "IPY_MODEL_fc6c38d52caf4dc1bcacdafc377cb09f",
            "_model_module": "@jupyter-widgets/controls",
            "children": [
              "IPY_MODEL_42a23783ac8b429c9493965cfc9e5633",
              "IPY_MODEL_686eba3ae8934551b9f65b8a936321e4"
            ]
          }
        },
        "fc6c38d52caf4dc1bcacdafc377cb09f": {
          "model_module": "@jupyter-widgets/base",
          "model_name": "LayoutModel",
          "state": {
            "_view_name": "LayoutView",
            "grid_template_rows": null,
            "right": null,
            "justify_content": null,
            "_view_module": "@jupyter-widgets/base",
            "overflow": null,
            "_model_module_version": "1.2.0",
            "_view_count": null,
            "flex_flow": null,
            "width": null,
            "min_width": null,
            "border": null,
            "align_items": null,
            "bottom": null,
            "_model_module": "@jupyter-widgets/base",
            "top": null,
            "grid_column": null,
            "overflow_y": null,
            "overflow_x": null,
            "grid_auto_flow": null,
            "grid_area": null,
            "grid_template_columns": null,
            "flex": null,
            "_model_name": "LayoutModel",
            "justify_items": null,
            "grid_row": null,
            "max_height": null,
            "align_content": null,
            "visibility": null,
            "align_self": null,
            "height": null,
            "min_height": null,
            "padding": null,
            "grid_auto_rows": null,
            "grid_gap": null,
            "max_width": null,
            "order": null,
            "_view_module_version": "1.2.0",
            "grid_template_areas": null,
            "object_position": null,
            "object_fit": null,
            "grid_auto_columns": null,
            "margin": null,
            "display": null,
            "left": null
          }
        },
        "42a23783ac8b429c9493965cfc9e5633": {
          "model_module": "@jupyter-widgets/controls",
          "model_name": "FloatSliderModel",
          "state": {
            "_view_name": "FloatSliderView",
            "style": "IPY_MODEL_2d372d9b03904bb8aa44476dbd45e98b",
            "_dom_classes": [],
            "description": "",
            "step": 0.1,
            "_model_name": "FloatSliderModel",
            "orientation": "horizontal",
            "max": 5,
            "_view_module": "@jupyter-widgets/controls",
            "_model_module_version": "1.5.0",
            "value": 0,
            "_view_count": null,
            "disabled": false,
            "_view_module_version": "1.5.0",
            "min": -5,
            "continuous_update": true,
            "readout_format": ".2f",
            "description_tooltip": null,
            "readout": true,
            "_model_module": "@jupyter-widgets/controls",
            "layout": "IPY_MODEL_8794752578c247e881ded4016b19dfc0"
          }
        },
        "686eba3ae8934551b9f65b8a936321e4": {
          "model_module": "@jupyter-widgets/controls",
          "model_name": "FloatSliderModel",
          "state": {
            "_view_name": "FloatSliderView",
            "style": "IPY_MODEL_09acd69684c64263be0bba15f7bcef9a",
            "_dom_classes": [],
            "description": "",
            "step": 0.1,
            "_model_name": "FloatSliderModel",
            "orientation": "horizontal",
            "max": 5,
            "_view_module": "@jupyter-widgets/controls",
            "_model_module_version": "1.5.0",
            "value": 0,
            "_view_count": null,
            "disabled": false,
            "_view_module_version": "1.5.0",
            "min": -5,
            "continuous_update": true,
            "readout_format": ".2f",
            "description_tooltip": null,
            "readout": true,
            "_model_module": "@jupyter-widgets/controls",
            "layout": "IPY_MODEL_cbb5505a3eff416ba3960a7b0aee6c4e"
          }
        },
        "2d372d9b03904bb8aa44476dbd45e98b": {
          "model_module": "@jupyter-widgets/controls",
          "model_name": "SliderStyleModel",
          "state": {
            "_view_name": "StyleView",
            "handle_color": null,
            "_model_name": "SliderStyleModel",
            "description_width": "",
            "_view_module": "@jupyter-widgets/base",
            "_model_module_version": "1.5.0",
            "_view_count": null,
            "_view_module_version": "1.2.0",
            "_model_module": "@jupyter-widgets/controls"
          }
        },
        "8794752578c247e881ded4016b19dfc0": {
          "model_module": "@jupyter-widgets/base",
          "model_name": "LayoutModel",
          "state": {
            "_view_name": "LayoutView",
            "grid_template_rows": null,
            "right": null,
            "justify_content": null,
            "_view_module": "@jupyter-widgets/base",
            "overflow": null,
            "_model_module_version": "1.2.0",
            "_view_count": null,
            "flex_flow": null,
            "width": null,
            "min_width": null,
            "border": null,
            "align_items": null,
            "bottom": null,
            "_model_module": "@jupyter-widgets/base",
            "top": null,
            "grid_column": null,
            "overflow_y": null,
            "overflow_x": null,
            "grid_auto_flow": null,
            "grid_area": null,
            "grid_template_columns": null,
            "flex": null,
            "_model_name": "LayoutModel",
            "justify_items": null,
            "grid_row": null,
            "max_height": null,
            "align_content": null,
            "visibility": null,
            "align_self": null,
            "height": null,
            "min_height": null,
            "padding": null,
            "grid_auto_rows": null,
            "grid_gap": null,
            "max_width": null,
            "order": null,
            "_view_module_version": "1.2.0",
            "grid_template_areas": null,
            "object_position": null,
            "object_fit": null,
            "grid_auto_columns": null,
            "margin": null,
            "display": null,
            "left": null
          }
        },
        "09acd69684c64263be0bba15f7bcef9a": {
          "model_module": "@jupyter-widgets/controls",
          "model_name": "SliderStyleModel",
          "state": {
            "_view_name": "StyleView",
            "handle_color": null,
            "_model_name": "SliderStyleModel",
            "description_width": "",
            "_view_module": "@jupyter-widgets/base",
            "_model_module_version": "1.5.0",
            "_view_count": null,
            "_view_module_version": "1.2.0",
            "_model_module": "@jupyter-widgets/controls"
          }
        },
        "cbb5505a3eff416ba3960a7b0aee6c4e": {
          "model_module": "@jupyter-widgets/base",
          "model_name": "LayoutModel",
          "state": {
            "_view_name": "LayoutView",
            "grid_template_rows": null,
            "right": null,
            "justify_content": null,
            "_view_module": "@jupyter-widgets/base",
            "overflow": null,
            "_model_module_version": "1.2.0",
            "_view_count": null,
            "flex_flow": null,
            "width": null,
            "min_width": null,
            "border": null,
            "align_items": null,
            "bottom": null,
            "_model_module": "@jupyter-widgets/base",
            "top": null,
            "grid_column": null,
            "overflow_y": null,
            "overflow_x": null,
            "grid_auto_flow": null,
            "grid_area": null,
            "grid_template_columns": null,
            "flex": null,
            "_model_name": "LayoutModel",
            "justify_items": null,
            "grid_row": null,
            "max_height": null,
            "align_content": null,
            "visibility": null,
            "align_self": null,
            "height": null,
            "min_height": null,
            "padding": null,
            "grid_auto_rows": null,
            "grid_gap": null,
            "max_width": null,
            "order": null,
            "_view_module_version": "1.2.0",
            "grid_template_areas": null,
            "object_position": null,
            "object_fit": null,
            "grid_auto_columns": null,
            "margin": null,
            "display": null,
            "left": null
          }
        },
        "ea03dae8b17e492585cf1d6be752761b": {
          "model_module": "@jupyter-widgets/output",
          "model_name": "OutputModel",
          "state": {
            "_view_name": "OutputView",
            "msg_id": "",
            "_dom_classes": [],
            "_model_name": "OutputModel",
            "outputs": [
              {
                "output_type": "stream",
                "metadata": {
                  "tags": []
                },
                "text": "[[0. 0.]]\n",
                "stream": "stdout"
              },
              {
                "output_type": "display_data",
                "metadata": {
                  "tags": [],
                  "needs_background": "light"
                },
                "image/png": "iVBORw0KGgoAAAANSUhEUgAAAPsAAAD4CAYAAAAq5pAIAAAABHNCSVQICAgIfAhkiAAAAAlwSFlzAAALEgAACxIB0t1+/AAAADh0RVh0U29mdHdhcmUAbWF0cGxvdGxpYiB2ZXJzaW9uMy4yLjEsIGh0dHA6Ly9tYXRwbG90bGliLm9yZy+j8jraAAARVElEQVR4nO3db2yd5XnH8d9lx45j56+TkLghJJDABmNqKCa0g1VQREepNKg2ofKiYhJT+qJIZaq0oU5aebEXaF1XTdPUKl1Rs4qCKrUMNkVrWYSEigTDsEACAZJC0sRxYhInceIQ/znn2gs/IAf8XI85/5P7+5Es2+fyc87tk/z8nHOuc9+3ubsAXPzamj0AAI1B2IFEEHYgEYQdSARhBxIxr5E31mnzvUs9jbxJICnnNKYJH7fZalWF3czukPTPktol/Zu7PxL9fJd6dKPdVs1NotW0tcd1L1d+3bSFP7EXfUdureKH8WbWLulfJX1J0jWS7jWzayq9PgD1Vc1z9s2S9rn7O+4+IekJSXfVZlgAaq2asK+RdHDG94eyy85jZlvMbMDMBiY1XsXNAahG3V+Nd/et7t7v7v0dml/vmwOQo5qwD0paO+P7S7PLALSgasL+kqQrzexyM+uU9FVJT9dmWABqreLWm7tPmdkDkn6l6dbbo+7+es1GhsawWVuyH2pbsCA+fEFXWPf3z+XXJqfiY6cmw3ohWnfnqarP7u7bJW2v0VgA1BFvlwUSQdiBRBB2IBGEHUgEYQcSQdiBRDR0PjuaoKCP3r50aVgf/cJVYX2yOz5fLN07llubd+h4eGz5WFxXW3zb5bNn4+MTw5kdSARhBxJB2IFEEHYgEYQdSARhBxJB6+1iELTX2pf3hoee/vzGsD54ezxNtOeS0bA+PJy/dPglz18WHrv8hXhlIz/yXljH+TizA4kg7EAiCDuQCMIOJIKwA4kg7EAiCDuQCPrsF4Ki5Z67u3Nrp26N++jvXR//vV+8+mRYv3Xt3rB+2VUjubUfjvxJeOyyN+Ptve3w0bBeuMNsdN1t8X3u5YJlqsulghsIrt/if5P2JYvzDz2V/ztzZgcSQdiBRBB2IBGEHUgEYQcSQdiBRBB2IBH02S8EBX3XtkULc2tDN8f94ltv3BXWb1j8bljfPXZpWP+XF7+QW1vzSjk8tv3IibBeGh8P6/L4+uNDW/g8WIp6+Pn9/6rCbmb7JZ2WVJI05e791VwfgPqpxZn9Vnc/VoPrAVBHLfxYBUAtVRt2l/RrM3vZzLbM9gNmtsXMBsxsYFIFz7EA1E21D+NvdvdBM7tE0jNm9qa7PzfzB9x9q6StkrTYegtmDwCol6rO7O4+mH0elvSkpM21GBSA2qs47GbWY2aLPvha0hcl7a7VwADUVjUP41dJetKm5+XOk/Qzd//vmowqNQXz1a09npc9uaEvt3b7514Nj/3T3v8L66+eXRfWt7+wKaxf9dP8bZPnHYzXfS8dy58LL0ke9purYx0F0Si47cIWv0fPaOODw987uNqKw+7u70j6dKXHA2gsWm9AIgg7kAjCDiSCsAOJIOxAIpji2gKKWmvty5eF9UN/nL+U9F8ufSM8dqwcb4v8s33xRMb1T02F9bY9+3NrpXPx26d9ajKsx+0rFbY0Q0WttTq2/Yp+L5/Iv188OJYzO5AIwg4kgrADiSDsQCIIO5AIwg4kgrADiaDP3ggFWwe3LVoU1sevXhPWJz49lls7V+4Ij31s8LNhvec/8rcHlqSul98M66Wx/CmuhfNAi/ro1SjqZRdtyVzPsRWIp7jSZweSR9iBRBB2IBGEHUgEYQcSQdiBRBB2IBH02VuAze8M6yc3xnPO//z3n8+tXd91MDz274e/HNY3vHYqrJfPBn10qaptkwsVzVcPt7ou6vHXcdxVsrbg9w6GzZkdSARhBxJB2IFEEHYgEYQdSARhBxJB2IFE0GdvgLAvKsmXLw3rxz8Tr1H+Z0sHcmsnC9aFt9/mrzkvSW0nDoX1UhXrpxetlx/3yecg6JV7HZd9b1WF96aZPWpmw2a2e8ZlvWb2jJntzT7HuxgAaLq5/On8iaQ7PnLZQ5J2uPuVknZk3wNoYYVhd/fnJI185OK7JG3Lvt4m6e4ajwtAjVX6nH2Vuw9lXx+RtCrvB81si6QtktSl+PkhgPqp+tV4n95JLneVO3ff6u797t7fofjFIgD1U2nYj5pZnyRln4drNyQA9VBp2J+WdF/29X2SnqrNcADUS+FzdjN7XNItklaY2SFJ35H0iKSfm9n9kg5Iuqeeg7zYlbvif4ZPXX4srJ8sL8itfffARxsp51v8TliWd3eF9bYl8bryCtZft+78cU9feXwu8qL93c+dyy8WHFs0n92n4n3p6ylc0z4oFYbd3e/NKd1WdCyA1sHbZYFEEHYgEYQdSARhBxJB2IFEMMW1BUwtit9ZePelL4T1sWAa69u71obHLg+r0ugf9Ib1jnXx9NxSV/703vHF8RTX+aPxPNTug/lbVUtS+2B+y7I8ORkeW54omANbtIx1Pbd0Llc2P5czO5AIwg4kgrADiSDsQCIIO5AIwg4kgrADiaDP3ggFSyaP9cVbNt+w4N2Kb9o746maZ9bG/wVOt8fnAyvFv9vk4vzbL/XE/eLOY/F1L1oZT69d1p1/v3a8HffBbeRkWPep1t3SOQ9ndiARhB1IBGEHEkHYgUQQdiARhB1IBGEHEkGfvRYK5jZbZ9xHP3VF/Dd3Y8doWB8PWsar1x+Pb3tlvJxz9/yJsO4e/+4L2/IHt7LnTHjsmcvjef6Hr1gS1t9fkb/d2Lrj8Tx8FfTZL0Sc2YFEEHYgEYQdSARhBxJB2IFEEHYgEYQdSAR99lqw+G9m0bbG48vjudHHSh1hPdqy+fT78ZbLPV1xH713wdmwfuxsfi9bkkZO9uTW2tvi33tFd8G68Cvj4w9em/8egLHdcZ+953D8/oPSqXjd+VZUeGY3s0fNbNjMds+47GEzGzSzndnHnfUdJoBqzeVh/E8k3THL5d93903Zx/baDgtArRWG3d2fkzTSgLEAqKNqXqB7wMxeyx7mL8v7ITPbYmYDZjYwqfEqbg5ANSoN+w8kbZC0SdKQpO/l/aC7b3X3fnfv71A8sQFA/VQUdnc/6u4ldy9L+pGkzbUdFoBaqyjsZtY349uvSNqd97MAWkNhn93MHpd0i6QVZnZI0nck3WJmmyS5pP2Svl7HMbaGYM66dcR3oy9ZGNbbpuI54TvH4z3WT5bye91nR+M++4IVcb/41Hh8/IkT8e8271D+U7ejE/G68Fodlzvb43XnVy0/lVsbXRdf+cKBuM+uU/EaA62oMOzufu8sF/+4DmMBUEe8XRZIBGEHEkHYgUQQdiARhB1IBFNca8AKtmT2joJ63HnThMf/TEvb86ehXrn2aHjs2GS8zPXho/FU0PYj8bsiFx7Mr42unwqPvWnVO2G9yK8OXJ1bW7kvbjmWR0/HV+7xls+tiDM7kAjCDiSCsAOJIOxAIgg7kAjCDiSCsAOJoM8+R1Ev3eYXrMAzHvd054/EjfbfjS8P659buDe3ds+nBsJjXxjdENaPjeYvBS1Jk/PjPn15Xv75ZHVvPE30hoXvhvUnjsRrpiz4r/wlvLtfja+7NH7xLaHGmR1IBGEHEkHYgUQQdiARhB1IBGEHEkHYgUTQZ58jL+UvW+wT8bbHbafjbY+7j8Rzo185ES8lfV33gdza9V35NUla23E8rF+/aH9Yf3NDX1h/fuMVubW/2/if4bHnPN6qevdgfNsbd53JrZVPnAyPjf69L1Sc2YFEEHYgEYQdSARhBxJB2IFEEHYgEYQdSAR99hrwqXj9cy9Yg3zJ/nju9J69a8L6WF/+nPI/7Ix71e0Wz7UvLQgWfpc0tPCtsP5Hi/Ln2q+eF98vf7XvnrC+9Nl4W+W2t17PrRXOV78A14UvUnhmN7O1Zvasmb1hZq+b2Tezy3vN7Bkz25t9Xlb/4QKo1Fwexk9J+pa7XyPps5K+YWbXSHpI0g53v1LSjux7AC2qMOzuPuTur2Rfn5a0R9IaSXdJ2pb92DZJd9drkACq94mes5vZeknXSXpR0ip3H8pKRyStyjlmi6QtktSl7krHCaBKc3413swWSvqFpAfd/byVAt3dJc36ioa7b3X3fnfv71DBwowA6mZOYTezDk0H/TF3/2V28VEz68vqfZKG6zNEALVgXtBiMDPT9HPyEXd/cMbl35V03N0fMbOHJPW6+19H17XYev1Gu60Gw24xVrDnssV/U9sXLwzrU1evD+sHvpz/9Kjr2ngq5+a+34X125ftDuv7zq0O6/97Yn1u7dW3LwuP/b0fxlOD2/YPhfXSyIn84kXYWpOkF32HRn32tcnn8pz9Jklfk7TLzHZml31b0iOSfm5m90s6ICluigJoqsKwu/tvJOWdui7C0zRwceLtskAiCDuQCMIOJIKwA4kg7EAiCvvstXTR9tmrVdCnt854W+T23vwJh74sf9tiSXr/siVhfXRd3LDpPB3//+k5nL/MdueeQ+GxpffiZa7l5YL6xdlLj0R9ds7sQCIIO5AIwg4kgrADiSDsQCIIO5AIwg4kgqWkW0FBP9gLlj2eOnI0t2bRnG5JCw53hfXunXHdS3Gvu3zyVG6tNBUvY51in7yeOLMDiSDsQCIIO5AIwg4kgrADiSDsQCIIO5AI+uwXg6AfXdSjL03kzzeXJI2eKbht5pRfKDizA4kg7EAiCDuQCMIOJIKwA4kg7EAiCDuQiMKwm9laM3vWzN4ws9fN7JvZ5Q+b2aCZ7cw+7qz/cFFz7vFHuRR/FB2PljGXN9VMSfqWu79iZoskvWxmz2S177v7P9ZveABqZS77sw9JGsq+Pm1meyStqffAANTWJ3rObmbrJV0n6cXsogfM7DUze9TMZt2DyMy2mNmAmQ1MKn7rJoD6mXPYzWyhpF9IetDdRyX9QNIGSZs0feb/3mzHuftWd+939/4Oza/BkAFUYk5hN7MOTQf9MXf/pSS5+1F3L7l7WdKPJG2u3zABVGsur8abpB9L2uPu/zTj8r4ZP/YVSbtrPzwAtTKXV+NvkvQ1SbvMbGd22bcl3WtmmyS5pP2Svl6XEQKoibm8Gv8bSbPt97y99sMBUC+8gw5IBGEHEkHYgUQQdiARhB1IBGEHEkHYgUQQdiARhB1IBGEHEkHYgUQQdiARhB1IBGEHEmHewOV+zew9SQdmXLRC0rGGDeCTadWxteq4JMZWqVqObZ27r5yt0NCwf+zGzQbcvb9pAwi06thadVwSY6tUo8bGw3ggEYQdSESzw761ybcfadWxteq4JMZWqYaMranP2QE0TrPP7AAahLADiWhK2M3sDjN7y8z2mdlDzRhDHjPbb2a7sm2oB5o8lkfNbNjMds+4rNfMnjGzvdnnWffYa9LYWmIb72Cb8abed83e/rzhz9nNrF3S25Jul3RI0kuS7nX3Nxo6kBxmtl9Sv7s3/Q0YZvZ5SWck/bu7X5td9g+SRtz9kewP5TJ3/5sWGdvDks40exvvbLeivpnbjEu6W9JfqIn3XTCue9SA+60ZZ/bNkva5+zvuPiHpCUl3NWEcLc/dn5M08pGL75K0Lft6m6b/szRczthagrsPufsr2denJX2wzXhT77tgXA3RjLCvkXRwxveH1Fr7vbukX5vZy2a2pdmDmcUqdx/Kvj4iaVUzBzOLwm28G+kj24y3zH1Xyfbn1eIFuo+72d0/I+lLkr6RPVxtST79HKyVeqdz2sa7UWbZZvxDzbzvKt3+vFrNCPugpLUzvr80u6wluPtg9nlY0pNqva2oj36wg272ebjJ4/lQK23jPds242qB+66Z2583I+wvSbrSzC43s05JX5X0dBPG8TFm1pO9cCIz65H0RbXeVtRPS7ov+/o+SU81cSznaZVtvPO2GVeT77umb3/u7g3/kHSnpl+R/62kv23GGHLGdYWkV7OP15s9NkmPa/ph3aSmX9u4X9JySTsk7ZX0P5J6W2hsP5W0S9Jrmg5WX5PGdrOmH6K/Jmln9nFns++7YFwNud94uyyQCF6gAxJB2IFEEHYgEYQdSARhBxJB2IFEEHYgEf8P9H2Au9Yg//MAAAAASUVORK5CYII=\n",
                "text/plain": "<Figure size 432x288 with 1 Axes>"
              }
            ],
            "_view_module": "@jupyter-widgets/output",
            "_model_module_version": "1.0.0",
            "_view_count": null,
            "_view_module_version": "1.0.0",
            "layout": "IPY_MODEL_b67b0daa0dfa419a8badb337237b27b0",
            "_model_module": "@jupyter-widgets/output"
          }
        },
        "b67b0daa0dfa419a8badb337237b27b0": {
          "model_module": "@jupyter-widgets/base",
          "model_name": "LayoutModel",
          "state": {
            "_view_name": "LayoutView",
            "grid_template_rows": null,
            "right": null,
            "justify_content": null,
            "_view_module": "@jupyter-widgets/base",
            "overflow": null,
            "_model_module_version": "1.2.0",
            "_view_count": null,
            "flex_flow": null,
            "width": null,
            "min_width": null,
            "border": null,
            "align_items": null,
            "bottom": null,
            "_model_module": "@jupyter-widgets/base",
            "top": null,
            "grid_column": null,
            "overflow_y": null,
            "overflow_x": null,
            "grid_auto_flow": null,
            "grid_area": null,
            "grid_template_columns": null,
            "flex": null,
            "_model_name": "LayoutModel",
            "justify_items": null,
            "grid_row": null,
            "max_height": null,
            "align_content": null,
            "visibility": null,
            "align_self": null,
            "height": null,
            "min_height": null,
            "padding": null,
            "grid_auto_rows": null,
            "grid_gap": null,
            "max_width": null,
            "order": null,
            "_view_module_version": "1.2.0",
            "grid_template_areas": null,
            "object_position": null,
            "object_fit": null,
            "grid_auto_columns": null,
            "margin": null,
            "display": null,
            "left": null
          }
        },
        "a51d9e4e284540b2911bb31b1ad2175b": {
          "model_module": "@jupyter-widgets/controls",
          "model_name": "VBoxModel",
          "state": {
            "_view_name": "VBoxView",
            "_dom_classes": [
              "widget-interact"
            ],
            "_model_name": "VBoxModel",
            "_view_module": "@jupyter-widgets/controls",
            "_model_module_version": "1.5.0",
            "_view_count": null,
            "_view_module_version": "1.5.0",
            "box_style": "",
            "layout": "IPY_MODEL_eef3be096ebe4bbd86c306975eedb7de",
            "_model_module": "@jupyter-widgets/controls",
            "children": [
              "IPY_MODEL_1ce426c36c4841d48e685aead70eba3c",
              "IPY_MODEL_f5fd20afb9794f43a17c932b8bcf45d2"
            ]
          }
        },
        "eef3be096ebe4bbd86c306975eedb7de": {
          "model_module": "@jupyter-widgets/base",
          "model_name": "LayoutModel",
          "state": {
            "_view_name": "LayoutView",
            "grid_template_rows": null,
            "right": null,
            "justify_content": null,
            "_view_module": "@jupyter-widgets/base",
            "overflow": null,
            "_model_module_version": "1.2.0",
            "_view_count": null,
            "flex_flow": null,
            "width": null,
            "min_width": null,
            "border": null,
            "align_items": null,
            "bottom": null,
            "_model_module": "@jupyter-widgets/base",
            "top": null,
            "grid_column": null,
            "overflow_y": null,
            "overflow_x": null,
            "grid_auto_flow": null,
            "grid_area": null,
            "grid_template_columns": null,
            "flex": null,
            "_model_name": "LayoutModel",
            "justify_items": null,
            "grid_row": null,
            "max_height": null,
            "align_content": null,
            "visibility": null,
            "align_self": null,
            "height": null,
            "min_height": null,
            "padding": null,
            "grid_auto_rows": null,
            "grid_gap": null,
            "max_width": null,
            "order": null,
            "_view_module_version": "1.2.0",
            "grid_template_areas": null,
            "object_position": null,
            "object_fit": null,
            "grid_auto_columns": null,
            "margin": null,
            "display": null,
            "left": null
          }
        },
        "1ce426c36c4841d48e685aead70eba3c": {
          "model_module": "@jupyter-widgets/controls",
          "model_name": "IntSliderModel",
          "state": {
            "_view_name": "IntSliderView",
            "style": "IPY_MODEL_662328d1674643309a5b1955abb15fdd",
            "_dom_classes": [],
            "description": "idx",
            "step": 1,
            "_model_name": "IntSliderModel",
            "orientation": "horizontal",
            "max": 59999,
            "_view_module": "@jupyter-widgets/controls",
            "_model_module_version": "1.5.0",
            "value": 0,
            "_view_count": null,
            "disabled": false,
            "_view_module_version": "1.5.0",
            "min": 0,
            "continuous_update": false,
            "readout_format": "d",
            "description_tooltip": null,
            "readout": true,
            "_model_module": "@jupyter-widgets/controls",
            "layout": "IPY_MODEL_64fdac27cd014ba7adb0fbe8fe54f3f8"
          }
        },
        "f5fd20afb9794f43a17c932b8bcf45d2": {
          "model_module": "@jupyter-widgets/output",
          "model_name": "OutputModel",
          "state": {
            "_view_name": "OutputView",
            "msg_id": "",
            "_dom_classes": [],
            "_model_name": "OutputModel",
            "outputs": [
              {
                "output_type": "stream",
                "metadata": {
                  "tags": []
                },
                "text": "GT label: 5\n",
                "stream": "stdout"
              },
              {
                "output_type": "display_data",
                "metadata": {
                  "tags": [],
                  "needs_background": "light"
                },
                "image/png": "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\n",
                "text/plain": "<Figure size 432x288 with 2 Axes>"
              }
            ],
            "_view_module": "@jupyter-widgets/output",
            "_model_module_version": "1.0.0",
            "_view_count": null,
            "_view_module_version": "1.0.0",
            "layout": "IPY_MODEL_6c2cdc3c34b7482caa928eb5a178253e",
            "_model_module": "@jupyter-widgets/output"
          }
        },
        "662328d1674643309a5b1955abb15fdd": {
          "model_module": "@jupyter-widgets/controls",
          "model_name": "SliderStyleModel",
          "state": {
            "_view_name": "StyleView",
            "handle_color": null,
            "_model_name": "SliderStyleModel",
            "description_width": "",
            "_view_module": "@jupyter-widgets/base",
            "_model_module_version": "1.5.0",
            "_view_count": null,
            "_view_module_version": "1.2.0",
            "_model_module": "@jupyter-widgets/controls"
          }
        },
        "64fdac27cd014ba7adb0fbe8fe54f3f8": {
          "model_module": "@jupyter-widgets/base",
          "model_name": "LayoutModel",
          "state": {
            "_view_name": "LayoutView",
            "grid_template_rows": null,
            "right": null,
            "justify_content": null,
            "_view_module": "@jupyter-widgets/base",
            "overflow": null,
            "_model_module_version": "1.2.0",
            "_view_count": null,
            "flex_flow": null,
            "width": null,
            "min_width": null,
            "border": null,
            "align_items": null,
            "bottom": null,
            "_model_module": "@jupyter-widgets/base",
            "top": null,
            "grid_column": null,
            "overflow_y": null,
            "overflow_x": null,
            "grid_auto_flow": null,
            "grid_area": null,
            "grid_template_columns": null,
            "flex": null,
            "_model_name": "LayoutModel",
            "justify_items": null,
            "grid_row": null,
            "max_height": null,
            "align_content": null,
            "visibility": null,
            "align_self": null,
            "height": null,
            "min_height": null,
            "padding": null,
            "grid_auto_rows": null,
            "grid_gap": null,
            "max_width": null,
            "order": null,
            "_view_module_version": "1.2.0",
            "grid_template_areas": null,
            "object_position": null,
            "object_fit": null,
            "grid_auto_columns": null,
            "margin": null,
            "display": null,
            "left": null
          }
        },
        "6c2cdc3c34b7482caa928eb5a178253e": {
          "model_module": "@jupyter-widgets/base",
          "model_name": "LayoutModel",
          "state": {
            "_view_name": "LayoutView",
            "grid_template_rows": null,
            "right": null,
            "justify_content": null,
            "_view_module": "@jupyter-widgets/base",
            "overflow": null,
            "_model_module_version": "1.2.0",
            "_view_count": null,
            "flex_flow": null,
            "width": null,
            "min_width": null,
            "border": null,
            "align_items": null,
            "bottom": null,
            "_model_module": "@jupyter-widgets/base",
            "top": null,
            "grid_column": null,
            "overflow_y": null,
            "overflow_x": null,
            "grid_auto_flow": null,
            "grid_area": null,
            "grid_template_columns": null,
            "flex": null,
            "_model_name": "LayoutModel",
            "justify_items": null,
            "grid_row": null,
            "max_height": null,
            "align_content": null,
            "visibility": null,
            "align_self": null,
            "height": null,
            "min_height": null,
            "padding": null,
            "grid_auto_rows": null,
            "grid_gap": null,
            "max_width": null,
            "order": null,
            "_view_module_version": "1.2.0",
            "grid_template_areas": null,
            "object_position": null,
            "object_fit": null,
            "grid_auto_columns": null,
            "margin": null,
            "display": null,
            "left": null
          }
        },
        "fe78dc535de9463096161fe6dccc6ed8": {
          "model_module": "@jupyter-widgets/controls",
          "model_name": "VBoxModel",
          "state": {
            "_view_name": "VBoxView",
            "_dom_classes": [
              "widget-interact"
            ],
            "_model_name": "VBoxModel",
            "_view_module": "@jupyter-widgets/controls",
            "_model_module_version": "1.5.0",
            "_view_count": null,
            "_view_module_version": "1.5.0",
            "box_style": "",
            "layout": "IPY_MODEL_2ea37efa097e4a6589a3facb271a9983",
            "_model_module": "@jupyter-widgets/controls",
            "children": [
              "IPY_MODEL_ef444abde0634c8e9ca9700590c8d918",
              "IPY_MODEL_26d87ce19ff74ebf83bf8477511fff85"
            ]
          }
        },
        "2ea37efa097e4a6589a3facb271a9983": {
          "model_module": "@jupyter-widgets/base",
          "model_name": "LayoutModel",
          "state": {
            "_view_name": "LayoutView",
            "grid_template_rows": null,
            "right": null,
            "justify_content": null,
            "_view_module": "@jupyter-widgets/base",
            "overflow": null,
            "_model_module_version": "1.2.0",
            "_view_count": null,
            "flex_flow": null,
            "width": null,
            "min_width": null,
            "border": null,
            "align_items": null,
            "bottom": null,
            "_model_module": "@jupyter-widgets/base",
            "top": null,
            "grid_column": null,
            "overflow_y": null,
            "overflow_x": null,
            "grid_auto_flow": null,
            "grid_area": null,
            "grid_template_columns": null,
            "flex": null,
            "_model_name": "LayoutModel",
            "justify_items": null,
            "grid_row": null,
            "max_height": null,
            "align_content": null,
            "visibility": null,
            "align_self": null,
            "height": null,
            "min_height": null,
            "padding": null,
            "grid_auto_rows": null,
            "grid_gap": null,
            "max_width": null,
            "order": null,
            "_view_module_version": "1.2.0",
            "grid_template_areas": null,
            "object_position": null,
            "object_fit": null,
            "grid_auto_columns": null,
            "margin": null,
            "display": null,
            "left": null
          }
        },
        "ef444abde0634c8e9ca9700590c8d918": {
          "model_module": "@jupyter-widgets/controls",
          "model_name": "IntSliderModel",
          "state": {
            "_view_name": "IntSliderView",
            "style": "IPY_MODEL_99fcbcbc8bdf450fb90a0fe02e14071a",
            "_dom_classes": [],
            "description": "idx",
            "step": 1,
            "_model_name": "IntSliderModel",
            "orientation": "horizontal",
            "max": 59999,
            "_view_module": "@jupyter-widgets/controls",
            "_model_module_version": "1.5.0",
            "value": 0,
            "_view_count": null,
            "disabled": false,
            "_view_module_version": "1.5.0",
            "min": 0,
            "continuous_update": true,
            "readout_format": "d",
            "description_tooltip": null,
            "readout": true,
            "_model_module": "@jupyter-widgets/controls",
            "layout": "IPY_MODEL_8b2dbe8b2db7494aa9a6ef1397d948ce"
          }
        },
        "26d87ce19ff74ebf83bf8477511fff85": {
          "model_module": "@jupyter-widgets/output",
          "model_name": "OutputModel",
          "state": {
            "_view_name": "OutputView",
            "msg_id": "",
            "_dom_classes": [],
            "_model_name": "OutputModel",
            "outputs": [
              {
                "output_type": "stream",
                "metadata": {
                  "tags": []
                },
                "text": "tf.Tensor(\n[-2.2412791  -6.89886    -3.3471882  -0.4179294  -0.17611116 -1.1346369\n -5.237053  ], shape=(7,), dtype=float32)\nGT label: 5\n",
                "stream": "stdout"
              }
            ],
            "_view_module": "@jupyter-widgets/output",
            "_model_module_version": "1.0.0",
            "_view_count": null,
            "_view_module_version": "1.0.0",
            "layout": "IPY_MODEL_fb7db1fb4a114d03b8bb3ec52437351b",
            "_model_module": "@jupyter-widgets/output"
          }
        },
        "99fcbcbc8bdf450fb90a0fe02e14071a": {
          "model_module": "@jupyter-widgets/controls",
          "model_name": "SliderStyleModel",
          "state": {
            "_view_name": "StyleView",
            "handle_color": null,
            "_model_name": "SliderStyleModel",
            "description_width": "",
            "_view_module": "@jupyter-widgets/base",
            "_model_module_version": "1.5.0",
            "_view_count": null,
            "_view_module_version": "1.2.0",
            "_model_module": "@jupyter-widgets/controls"
          }
        },
        "8b2dbe8b2db7494aa9a6ef1397d948ce": {
          "model_module": "@jupyter-widgets/base",
          "model_name": "LayoutModel",
          "state": {
            "_view_name": "LayoutView",
            "grid_template_rows": null,
            "right": null,
            "justify_content": null,
            "_view_module": "@jupyter-widgets/base",
            "overflow": null,
            "_model_module_version": "1.2.0",
            "_view_count": null,
            "flex_flow": null,
            "width": null,
            "min_width": null,
            "border": null,
            "align_items": null,
            "bottom": null,
            "_model_module": "@jupyter-widgets/base",
            "top": null,
            "grid_column": null,
            "overflow_y": null,
            "overflow_x": null,
            "grid_auto_flow": null,
            "grid_area": null,
            "grid_template_columns": null,
            "flex": null,
            "_model_name": "LayoutModel",
            "justify_items": null,
            "grid_row": null,
            "max_height": null,
            "align_content": null,
            "visibility": null,
            "align_self": null,
            "height": null,
            "min_height": null,
            "padding": null,
            "grid_auto_rows": null,
            "grid_gap": null,
            "max_width": null,
            "order": null,
            "_view_module_version": "1.2.0",
            "grid_template_areas": null,
            "object_position": null,
            "object_fit": null,
            "grid_auto_columns": null,
            "margin": null,
            "display": null,
            "left": null
          }
        },
        "fb7db1fb4a114d03b8bb3ec52437351b": {
          "model_module": "@jupyter-widgets/base",
          "model_name": "LayoutModel",
          "state": {
            "_view_name": "LayoutView",
            "grid_template_rows": null,
            "right": null,
            "justify_content": null,
            "_view_module": "@jupyter-widgets/base",
            "overflow": null,
            "_model_module_version": "1.2.0",
            "_view_count": null,
            "flex_flow": null,
            "width": null,
            "min_width": null,
            "border": null,
            "align_items": null,
            "bottom": null,
            "_model_module": "@jupyter-widgets/base",
            "top": null,
            "grid_column": null,
            "overflow_y": null,
            "overflow_x": null,
            "grid_auto_flow": null,
            "grid_area": null,
            "grid_template_columns": null,
            "flex": null,
            "_model_name": "LayoutModel",
            "justify_items": null,
            "grid_row": null,
            "max_height": null,
            "align_content": null,
            "visibility": null,
            "align_self": null,
            "height": null,
            "min_height": null,
            "padding": null,
            "grid_auto_rows": null,
            "grid_gap": null,
            "max_width": null,
            "order": null,
            "_view_module_version": "1.2.0",
            "grid_template_areas": null,
            "object_position": null,
            "object_fit": null,
            "grid_auto_columns": null,
            "margin": null,
            "display": null,
            "left": null
          }
        }
      }
    }
  },
  "cells": [
    {
      "cell_type": "markdown",
      "metadata": {
        "id": "view-in-github",
        "colab_type": "text"
      },
      "source": [
        "<a href=\"https://colab.research.google.com/github/bluesky0960/AI_Study/blob/master/AutoEncoder_Conv(TensorFlow_2).ipynb\" target=\"_parent\"><img src=\"https://colab.research.google.com/assets/colab-badge.svg\" alt=\"Open In Colab\"/></a>"
      ]
    },
    {
      "cell_type": "markdown",
      "metadata": {
        "id": "cGH4148vfZ-h",
        "colab_type": "text"
      },
      "source": [
        "# 오토인코더 (TensorFlow 2)\n",
        "텐서플로우 2에서 제공하는 고수준 API인 케라스를 이용해, 오토인코더(autoencoder)를 구현한다.\n",
        "* Google Colab 환경에서 사용하는 경우에  초점을 맞춤.\n",
        "* 텐서플로우 2\n",
        "* 텐서플로우 2 내장 케라스 기준\n",
        "\n",
        "참고문헌\n",
        "* [TensorFlow 소개](https://www.tensorflow.org/learn)\n",
        "* [TensorFlow > 학습 > TensorFlow Core > 가이드 > 케라스: 빠르게 훑어보기](https://www.tensorflow.org/guide/keras/overview)\n",
        "* [Deep Learning with Python, by Francois Chollet](https://github.com/fchollet/deep-learning-with-python-notebooks)\n",
        "\n",
        "\n",
        "주의사항\n",
        "* Colab에서 코드에 이상이 없음에도 불구하고 결과가 제대로 나오지 않을 경우, '런타임 다시 시작...'을 해보도록 한다.'\n",
        "\n",
        "\n",
        "## Deep Neural Network 기초\n",
        "다음 비디오를 보고 심층신경망(deep neural network) 기반 딥러닝 기법은 이해하도록 한다.\n",
        "* [신경망이란 무엇인가? | 1장.딥러닝에 관하여 (3Blue1Brown)](https://youtu.be/aircAruvnKk)\n",
        "* [경사 하강, 신경 네트워크가 학습하는 방법 | 심층 학습, 2장 (3Blue1Brown)](https://youtu.be/IHZwWFHWa-w)\n",
        "* [What is backpropagation really doing? | Deep learning, chapter 3 (3Blue1Brown)](https://youtu.be/Ilg3gGewQ5U)\n",
        "* [Backpropagation calculus | Deep learning, chapter 4 (3Blue1Brown)](https://youtu.be/tIeHLnjs5U8)\n",
        "\n",
        "\n",
        "## Tensorflow 2과 Keras를 사용하기 위한 구성\n",
        "```\n",
        "import tensorflow as tf                       # 텐서플로우 임포트\n",
        "from tensorflow.keras import models, layers   # 케라스 관련 모듈 임포트\n",
        "import numpy as np\n",
        "\n",
        "print(tf.__version__)        # 텐서플로우 버전을 확인하도록 한다.\n",
        "print(tf.keras.__version__)  # 케라스 버전을 확인한다.\n",
        "```"
      ]
    },
    {
      "cell_type": "code",
      "metadata": {
        "id": "CI5C_ap5fR9J",
        "colab_type": "code",
        "outputId": "dceb67c6-8ff4-48aa-9094-474e0b5fa680",
        "colab": {
          "base_uri": "https://localhost:8080/",
          "height": 52
        }
      },
      "source": [
        "import tensorflow as tf                       # 텐서플로우 임포트\n",
        "from tensorflow.keras import models, layers   # 케라스 관련 모듈 임포트\n",
        "import numpy as np\n",
        "import matplotlib.pyplot as plt\n",
        " \n",
        "print(tf.__version__)        # 텐서플로우 버전을 확인하도록 한다.\n",
        "print(tf.keras.__version__)  # 케라스 버전을 확인한다."
      ],
      "execution_count": 0,
      "outputs": [
        {
          "output_type": "stream",
          "text": [
            "2.2.0-rc3\n",
            "2.3.0-tf\n"
          ],
          "name": "stdout"
        }
      ]
    },
    {
      "cell_type": "markdown",
      "metadata": {
        "id": "SLDZtDXwhwS2",
        "colab_type": "text"
      },
      "source": [
        "## MNIST 데이터셋 띄우기\n",
        "* mnist 데이터셋은 LeCun이 만든 숫자(digit) 손글씨 데이터셋이다.\n",
        "* 60,000개의 트레이닝 데이터와 10,000개의 테스트 데이터로 이루어져 있다.\n",
        "\n",
        "\n",
        "### MNIST 이미지 데이터\n",
        "* 트레이닝 이미지와 테스트 이미지에 들어 있는 영상은 3차원 텐서이다.\n",
        "  + 트레이닝 이미지의 경우, shape = (60000, 28, 28)\n",
        "  + 테스트 이미지의 경우, shape=(10000, 28, 28)\n",
        "* 3차원 텐서는 다음의 의미로 구성되어 있음을 유념하자.\n",
        "  + (# of images, image Height, image Width)  혹은 (# of images, # of Rows, # of Columns)  \n",
        "* 각 이미지를 Conv2D Layer에 넣기 위해 reshape 함수를 통해 축을 하나 추가해준다.\n",
        "  + 트레이닝 이미지의 경우, shape = (60000, 28, 28, 1)\n",
        "  + 테스트 이미지의 경우, shape = (10000, 28, 28, 1)\n",
        "* 각 영상은 28 x 28 크기로 구성되어 있다.\n",
        "* 각 픽셀은 [0, 255] 사이의 uint8형 값이다.\n",
        "  + 반드시, 텐서플로우에 입력으로 넣을 때, 픽셀값을 [0, 1] 사이의 float64형 값으로 변환하도록 하자.\n",
        "\n",
        "\n",
        "### MNIST 라벨 데이터\n",
        "* 각 라벨은 [0, 9] 사이의 unit8형 값이다."
      ]
    },
    {
      "cell_type": "code",
      "metadata": {
        "id": "Hwi7aAqKgxwz",
        "colab_type": "code",
        "outputId": "a452d150-4497-4e9a-fea4-14bfb65e2101",
        "colab": {
          "base_uri": "https://localhost:8080/",
          "height": 175
        }
      },
      "source": [
        "# MNIST 데이터 로딩\n",
        "mnist = tf.keras.datasets.mnist\n",
        "\n",
        "(train_images, train_labels), (test_images, test_labels) = mnist.load_data()\n",
        "\n",
        "print('train_images의 *원래* 데이터의 shape과 dype:', \n",
        "      train_images.shape, train_images.dtype)\n",
        "print('test_images의 *원래* 데이터의 shape과 dype:', \n",
        "      test_images.shape, test_images.dtype)\n",
        "\n",
        "# Conv2d layer를 위해 축 추가\n",
        "train_images = np.reshape(train_images, (len(train_images),28, 28, 1))\n",
        "test_images = np.reshape(test_images, (len(test_images),28, 28, 1))\n",
        "\n",
        "# Normalizing the images to the range of [0., 1.]\n",
        "train_images = tf.cast(train_images, tf.float32)\n",
        "test_images  = tf.cast(test_images, tf.float32)\n",
        "train_images /= 255\n",
        "test_images  /= 255\n",
        "\n",
        "print('train_images의 *바뀐* 데이터의 shape과 dype:', \n",
        "      train_images.shape, train_images.dtype)\n",
        "print('test_images의 *바뀐* 데이터의 shape과 dype:', \n",
        "      test_images.shape, test_images.dtype)\n",
        "\n",
        "\n",
        "# Print out for checking\n",
        "print(train_images[0].shape)\n",
        "print(train_images[0][0][0].dtype)\n",
        "print(train_labels.dtype)"
      ],
      "execution_count": 0,
      "outputs": [
        {
          "output_type": "stream",
          "text": [
            "Downloading data from https://storage.googleapis.com/tensorflow/tf-keras-datasets/mnist.npz\n",
            "11493376/11490434 [==============================] - 0s 0us/step\n",
            "train_images의 *원래* 데이터의 shape과 dype: (60000, 28, 28) uint8\n",
            "test_images의 *원래* 데이터의 shape과 dype: (10000, 28, 28) uint8\n",
            "train_images의 *바뀐* 데이터의 shape과 dype: (60000, 28, 28, 1) <dtype: 'float32'>\n",
            "test_images의 *바뀐* 데이터의 shape과 dype: (10000, 28, 28, 1) <dtype: 'float32'>\n",
            "(28, 28, 1)\n",
            "<dtype: 'float32'>\n",
            "uint8\n"
          ],
          "name": "stdout"
        }
      ]
    },
    {
      "cell_type": "markdown",
      "metadata": {
        "id": "cnmmvNM8mggn",
        "colab_type": "text"
      },
      "source": [
        "## 네트워크 모델 설계\n",
        "* 인코더 모델: 케라스 시퀀셜 모델로 설계\n",
        "  + InputLayer로 (28,28) 영상을 받고, 출력으로 n_dim차원 벡터가 나오도록 함.\n",
        "* 디코더 모델: 케라스 시퀀셜 모델로 설계\n",
        "  + InputLayer에서 n_dim차원 벡터를 받고, 출력으로 (28,28) 영상이 나오도록 함.\n",
        "* 오토인코더 모델: 인코더, 디코더를 결합하여 설계\n",
        "  + 주의: InputLayer를 추가해야 곧장 함수로서 활용할 수 있음."
      ]
    },
    {
      "cell_type": "markdown",
      "metadata": {
        "id": "8vdpCXoBC2iT",
        "colab_type": "text"
      },
      "source": [
        "여기서는 n_dim을 우선 2로 설정한다.\n",
        "* 즉, n_dim=2"
      ]
    },
    {
      "cell_type": "code",
      "metadata": {
        "id": "oVqgPZuAh1qV",
        "colab_type": "code",
        "colab": {}
      },
      "source": [
        "n_dim = 2"
      ],
      "execution_count": 0,
      "outputs": []
    },
    {
      "cell_type": "markdown",
      "metadata": {
        "id": "X1n1CJu8DAa3",
        "colab_type": "text"
      },
      "source": [
        "인코더 모델 정의\n",
        "* (28, 28, 1) 영상을 입력으로 받는 필터가 8개이고, kernel_size가 (2,2)인 Conv2d Layer를 정의한다(padding은 입력과 출력의 크기가 같도록 하기 위해 same을 넣어주었다)\n",
        "* Conv2D layer를 통과한 영상 크기를 maxpooling2d layer를 통과시켜 반으로 줄여줍니다.\n",
        "* 이것을 두번 반복해줍니다\n",
        "  + conv2d: (28,28,1) -> (28,28,8)\n",
        "  + maxpooling2d: (28,28,8) -> (14,14,8)\n",
        "  + conv2d: (14,14,8) -> (14,14,8)\n",
        "  + maxpooling2d: (14,14,8) -> (7,7,8)\n",
        "* Flatten으로 입력 텐서를 392-vector로 벡터라이즈((7,7,8) -> 7 x 7 x 8 = 392)\n",
        "* Fully connected layer로 392 > 128 > 64 > n_dim 로 차원 축소"
      ]
    },
    {
      "cell_type": "code",
      "metadata": {
        "id": "-xh8TaXmmxpM",
        "colab_type": "code",
        "colab": {}
      },
      "source": [
        "enc = tf.keras.models.Sequential([\n",
        "  tf.keras.layers.Conv2D(8, (2,2), activation='relu', padding='same', input_shape=(28,28,1)),\n",
        "  tf.keras.layers.MaxPooling2D((2,2), padding='same'),\n",
        "  tf.keras.layers.Conv2D(8, (2,2), activation='relu', padding='same'),\n",
        "  tf.keras.layers.MaxPooling2D((2,2), padding='same'),\n",
        "  tf.keras.layers.Flatten(),\n",
        "  tf.keras.layers.Dense(128, activation='relu'),\n",
        "  tf.keras.layers.Dense(64, activation='relu'),\n",
        "  tf.keras.layers.Dense(n_dim)\n",
        "])"
      ],
      "execution_count": 0,
      "outputs": []
    },
    {
      "cell_type": "markdown",
      "metadata": {
        "id": "IWSeOz84mgje",
        "colab_type": "text"
      },
      "source": [
        "디코더 모델 정의\n",
        "* Fully connected layey로 n_dim > 64 > 128 > 392로 차원 확대\n",
        "* 392-vector를 Reshape을 통해 (7,7,8)의 텐서로 변환\n",
        "* 필터가 8이고 kernel_size가 (2,2)인 conv2d layer를 통과시킨다.\n",
        "* UpSampling2d를 통과시켜 conv2d layer를 통과한 영상의 크기를 2배로 늘려준다(이것을 2번 반복 시행)\n",
        "  + conv2d: (7,7,8) -> (7,7,8)\n",
        "  + upsampling2d: (7,7,8) -> (14,14,8)\n",
        "  + conv2d: (14,14,8) -> (14,14,8)\n",
        "  + upsampling2d: (14,14,8) -> (28,28,8)\n",
        "* 마지막으로 필터의 개수가 1이고 activation function이 sigmoid인 conv2d layer를 통과 시킨다.\n",
        "  + conv2d: (28,28,8) -> (28,28,1)"
      ]
    },
    {
      "cell_type": "code",
      "metadata": {
        "id": "PsJjPeg0Czz4",
        "colab_type": "code",
        "colab": {}
      },
      "source": [
        "dec = tf.keras.models.Sequential([\n",
        "  tf.keras.layers.InputLayer(input_shape=(n_dim,)),   # 주의: 반드시 1D tensor를 (ndim, )로 표현할 것\n",
        "  tf.keras.layers.Dense(64, activation='relu'),\n",
        "  tf.keras.layers.Dense(128, activation='relu'),\n",
        "  tf.keras.layers.Dense(392, activation='relu'),\n",
        "  tf.keras.layers.Reshape(target_shape=(7,7,8)),\n",
        "  tf.keras.layers.Conv2D(8, (2,2), activation='relu', padding='same'),\n",
        "  tf.keras.layers.UpSampling2D((2,2)),\n",
        "  tf.keras.layers.Conv2D(8, (2,2), activation='relu', padding='same'),\n",
        "  tf.keras.layers.UpSampling2D((2,2)),\n",
        "  tf.keras.layers.Conv2D(1, (2,2), activation='sigmoid', padding='same'),\n",
        "])"
      ],
      "execution_count": 0,
      "outputs": []
    },
    {
      "cell_type": "markdown",
      "metadata": {
        "id": "dRRvhIDjmgm3",
        "colab_type": "text"
      },
      "source": [
        "AutoEncoder 모델 정의\n",
        "* 인코더 > 디코더로 구성"
      ]
    },
    {
      "cell_type": "code",
      "metadata": {
        "id": "9vVylmdjEwTY",
        "colab_type": "code",
        "colab": {}
      },
      "source": [
        "ae = tf.keras.models.Sequential([\n",
        "  enc,\n",
        "  dec,                               \n",
        "])"
      ],
      "execution_count": 0,
      "outputs": []
    },
    {
      "cell_type": "markdown",
      "metadata": {
        "id": "RvMFp41gmgpm",
        "colab_type": "text"
      },
      "source": [
        "## 훈련 전, 네트워크 모델을 함수로서 활용\n",
        "* AutoEncoder ae를 모델로 구성했기 때문에, 지금부터 함수로서 활용 가능 [(효과적인 TensorFlow: 세션 대신 함수)](https://www.tensorflow.org/guide/effective_tf2?hl=ko#%EC%84%B8%EC%85%98_%EB%8C%80%EC%8B%A0_%ED%95%A8%EC%88%98)\n",
        "  + 단, ae 함수는 batch 단위로 수행됨을 명심할 것.  \n",
        "    - 단순히, (28, 28, 1) -> ae -> (28, 28, 1)로 동작하지 않고,\n",
        "    - batch 단위로 (?, 28, 28, 1) -> ae -> (?, 28, 28, 1)로 병렬처리됨.\n",
        "* 지금은 훈련 전 네트웍이기 때문에 정상적으로 작동하지 않음."
      ]
    },
    {
      "cell_type": "code",
      "metadata": {
        "id": "IIZZEv9-FMnt",
        "colab_type": "code",
        "outputId": "b02890e9-8231-44bf-c7b5-c8da304affec",
        "colab": {
          "base_uri": "https://localhost:8080/",
          "height": 52
        }
      },
      "source": [
        "y_pred = ae(train_images)\n",
        "print('input  shape:', train_images.shape)\n",
        "print('output shape:', y_pred.shape)"
      ],
      "execution_count": 0,
      "outputs": [
        {
          "output_type": "stream",
          "text": [
            "input  shape: (60000, 28, 28, 1)\n",
            "output shape: (60000, 28, 28, 1)\n"
          ],
          "name": "stdout"
        }
      ]
    },
    {
      "cell_type": "markdown",
      "metadata": {
        "id": "1S3LEgAKFL4L",
        "colab_type": "text"
      },
      "source": [
        "train_images[idx] 영상에 대한 결과 확인\n",
        "* ae의 입력 / 출력 가시화\n"
      ]
    },
    {
      "cell_type": "code",
      "metadata": {
        "id": "2hKHw7mEFzYN",
        "colab_type": "code",
        "outputId": "ba5585ea-0d67-48ab-b807-eb4e99767f05",
        "colab": {
          "base_uri": "https://localhost:8080/",
          "height": 250,
          "referenced_widgets": [
            "87637847a50e43878c00086c4b1a5591",
            "72ee3190f98d4160bc698197ae626337",
            "c89c02d2946f496ab093a1a11ab678f8",
            "fa81a8a9c47248bdb158f5f0aae53b0f",
            "dfef7ed985c34bbd8082d95e97a6e5e2",
            "7dbbf62371d94a8dbfa6e68233f81957",
            "864760f4359c427881a1be91a6934386"
          ]
        }
      },
      "source": [
        "import ipywidgets as widgets\n",
        "\n",
        "def io_imshow(idx):\n",
        "  print('GT label:', train_labels[idx])\n",
        "  plt.subplot(121)\n",
        "  plt.imshow(train_images[idx,:,:,0])\n",
        "  plt.subplot(122)\n",
        "  plt.imshow(y_pred[idx,:,:,0])\n",
        "  plt.show()\n",
        "\n",
        "widgets.interact(io_imshow, idx=widgets.IntSlider(min=0, max=train_images.shape[0]-1, continuous_update=False));"
      ],
      "execution_count": 0,
      "outputs": [
        {
          "output_type": "display_data",
          "data": {
            "application/vnd.jupyter.widget-view+json": {
              "model_id": "87637847a50e43878c00086c4b1a5591",
              "version_minor": 0,
              "version_major": 2
            },
            "text/plain": [
              "interactive(children=(IntSlider(value=0, continuous_update=False, description='idx', max=59999), Output()), _d…"
            ]
          },
          "metadata": {
            "tags": []
          }
        }
      ]
    },
    {
      "cell_type": "markdown",
      "metadata": {
        "id": "20IBU95KmguR",
        "colab_type": "text"
      },
      "source": [
        "## 네트워크 모델 구조 확인\n",
        "* summary() 함수로 모델의 구조를 텍스트로 프린트할 수 있음.\n",
        "* plot_model() 함수로 모델의 구조를 텍스트로 프린트할 수 있음."
      ]
    },
    {
      "cell_type": "code",
      "metadata": {
        "id": "wkk04rsyG9c6",
        "colab_type": "code",
        "outputId": "9382ef8c-a145-4dee-c688-fd8182f2f892",
        "colab": {
          "base_uri": "https://localhost:8080/",
          "height": 1000
        }
      },
      "source": [
        "enc.summary()\n",
        "tf.keras.utils.plot_model(enc, 'enc.png', show_shapes=True)"
      ],
      "execution_count": 0,
      "outputs": [
        {
          "output_type": "stream",
          "text": [
            "Model: \"sequential\"\n",
            "_________________________________________________________________\n",
            "Layer (type)                 Output Shape              Param #   \n",
            "=================================================================\n",
            "conv2d (Conv2D)              (None, 28, 28, 8)         40        \n",
            "_________________________________________________________________\n",
            "max_pooling2d (MaxPooling2D) (None, 14, 14, 8)         0         \n",
            "_________________________________________________________________\n",
            "conv2d_1 (Conv2D)            (None, 14, 14, 8)         264       \n",
            "_________________________________________________________________\n",
            "max_pooling2d_1 (MaxPooling2 (None, 7, 7, 8)           0         \n",
            "_________________________________________________________________\n",
            "flatten (Flatten)            (None, 392)               0         \n",
            "_________________________________________________________________\n",
            "dense (Dense)                (None, 128)               50304     \n",
            "_________________________________________________________________\n",
            "dense_1 (Dense)              (None, 64)                8256      \n",
            "_________________________________________________________________\n",
            "dense_2 (Dense)              (None, 2)                 130       \n",
            "=================================================================\n",
            "Total params: 58,994\n",
            "Trainable params: 58,994\n",
            "Non-trainable params: 0\n",
            "_________________________________________________________________\n"
          ],
          "name": "stdout"
        },
        {
          "output_type": "execute_result",
          "data": {
            "image/png": "[encoded data removed]",
            "text/plain": [
              "<IPython.core.display.Image object>"
            ]
          },
          "metadata": {
            "tags": []
          },
          "execution_count": 10
        }
      ]
    },
    {
      "cell_type": "code",
      "metadata": {
        "id": "CQTh5ytpG-Ez",
        "colab_type": "code",
        "outputId": "894f1f62-eb89-4da2-e584-9545f38c3c01",
        "colab": {
          "base_uri": "https://localhost:8080/",
          "height": 1000
        }
      },
      "source": [
        "dec.summary()\n",
        "tf.keras.utils.plot_model(dec, 'dec.png', show_shapes=True)"
      ],
      "execution_count": 0,
      "outputs": [
        {
          "output_type": "stream",
          "text": [
            "Model: \"sequential_1\"\n",
            "_________________________________________________________________\n",
            "Layer (type)                 Output Shape              Param #   \n",
            "=================================================================\n",
            "dense_3 (Dense)              (None, 64)                192       \n",
            "_________________________________________________________________\n",
            "dense_4 (Dense)              (None, 128)               8320      \n",
            "_________________________________________________________________\n",
            "dense_5 (Dense)              (None, 392)               50568     \n",
            "_________________________________________________________________\n",
            "reshape (Reshape)            (None, 7, 7, 8)           0         \n",
            "_________________________________________________________________\n",
            "conv2d_2 (Conv2D)            (None, 7, 7, 8)           264       \n",
            "_________________________________________________________________\n",
            "up_sampling2d (UpSampling2D) (None, 14, 14, 8)         0         \n",
            "_________________________________________________________________\n",
            "conv2d_3 (Conv2D)            (None, 14, 14, 8)         264       \n",
            "_________________________________________________________________\n",
            "up_sampling2d_1 (UpSampling2 (None, 28, 28, 8)         0         \n",
            "_________________________________________________________________\n",
            "conv2d_4 (Conv2D)            (None, 28, 28, 1)         33        \n",
            "=================================================================\n",
            "Total params: 59,641\n",
            "Trainable params: 59,641\n",
            "Non-trainable params: 0\n",
            "_________________________________________________________________\n"
          ],
          "name": "stdout"
        },
        {
          "output_type": "execute_result",
          "data": {
            "image/png": "[encoded data removed]",
            "text/plain": [
              "<IPython.core.display.Image object>"
            ]
          },
          "metadata": {
            "tags": []
          },
          "execution_count": 11
        }
      ]
    },
    {
      "cell_type": "code",
      "metadata": {
        "id": "2PQgu8CUG-Hf",
        "colab_type": "code",
        "outputId": "ec81e452-289d-450f-aa70-cdf19706499b",
        "colab": {
          "base_uri": "https://localhost:8080/",
          "height": 523
        }
      },
      "source": [
        "ae.summary()\n",
        "tf.keras.utils.plot_model(ae, 'ae.png', show_shapes=True)"
      ],
      "execution_count": 0,
      "outputs": [
        {
          "output_type": "stream",
          "text": [
            "Model: \"sequential_2\"\n",
            "_________________________________________________________________\n",
            "Layer (type)                 Output Shape              Param #   \n",
            "=================================================================\n",
            "sequential (Sequential)      (None, 2)                 58994     \n",
            "_________________________________________________________________\n",
            "sequential_1 (Sequential)    (None, 28, 28, 1)         59641     \n",
            "=================================================================\n",
            "Total params: 118,635\n",
            "Trainable params: 118,635\n",
            "Non-trainable params: 0\n",
            "_________________________________________________________________\n"
          ],
          "name": "stdout"
        },
        {
          "output_type": "execute_result",
          "data": {
            "image/png": "[encoded data removed]",
            "text/plain": [
              "<IPython.core.display.Image object>"
            ]
          },
          "metadata": {
            "tags": []
          },
          "execution_count": 12
        }
      ]
    },
    {
      "cell_type": "markdown",
      "metadata": {
        "id": "4oOGTvjMIfJE",
        "colab_type": "text"
      },
      "source": [
        "## 오토인코더 인스턴스 트레이닝\n",
        "\n",
        "AutoEncoder 인스턴스 ae에 대한 훈련 수행\n",
        "* 인스턴스 ae를 [compile](https://www.tensorflow.org/api_docs/python/tf/keras/Model#compile)\n",
        "  + cf) shader program 컴파일과 유사하게 이해해도 됨\n",
        "  + 이때, 훈련에 활용될 [optimizer](https://www.tensorflow.org/api_docs/python/tf/keras/optimizers), [loss](https://www.tensorflow.org/api_docs/python/tf/keras/losses), [metrics](https://www.tensorflow.org/api_docs/python/tf/keras/metrics) 등을 지정함\n",
        "  + Optmizer에 대한 이론적 내용은 [이곳](https://brunch.co.kr/@chris-song/50)을 참고하세요.\n",
        "* 훈련 데이터 쌍 (train_images, train_labels)으로 fit()을 이용해 훈련 "
      ]
    },
    {
      "cell_type": "code",
      "metadata": {
        "id": "wsY5opqwG-KP",
        "colab_type": "code",
        "outputId": "ad0291f1-a046-441b-9050-37cbb06548e3",
        "colab": {
          "base_uri": "https://localhost:8080/",
          "height": 386
        }
      },
      "source": [
        "ae.compile(optimizer='Adam', # optimizer의 name 혹은 함수 객체 설정\n",
        "           loss='mse', \n",
        "           metrics=['mae'])\n",
        "\n",
        "ae.fit(train_images, train_images, epochs=10, batch_size=32)"
      ],
      "execution_count": 0,
      "outputs": [
        {
          "output_type": "stream",
          "text": [
            "Epoch 1/10\n",
            "1875/1875 [==============================] - 6s 3ms/step - loss: 0.0593 - mae: 0.1298\n",
            "Epoch 2/10\n",
            "1875/1875 [==============================] - 6s 3ms/step - loss: 0.0464 - mae: 0.1062\n",
            "Epoch 3/10\n",
            "1875/1875 [==============================] - 6s 3ms/step - loss: 0.0437 - mae: 0.1012\n",
            "Epoch 4/10\n",
            "1875/1875 [==============================] - 6s 3ms/step - loss: 0.0424 - mae: 0.0988\n",
            "Epoch 5/10\n",
            "1875/1875 [==============================] - 6s 3ms/step - loss: 0.0414 - mae: 0.0969\n",
            "Epoch 6/10\n",
            "1875/1875 [==============================] - 6s 3ms/step - loss: 0.0407 - mae: 0.0956\n",
            "Epoch 7/10\n",
            "1875/1875 [==============================] - 6s 3ms/step - loss: 0.0402 - mae: 0.0946\n",
            "Epoch 8/10\n",
            "1875/1875 [==============================] - 6s 3ms/step - loss: 0.0397 - mae: 0.0937\n",
            "Epoch 9/10\n",
            "1875/1875 [==============================] - 6s 3ms/step - loss: 0.0393 - mae: 0.0930\n",
            "Epoch 10/10\n",
            "1875/1875 [==============================] - 6s 3ms/step - loss: 0.0390 - mae: 0.0924\n"
          ],
          "name": "stdout"
        },
        {
          "output_type": "execute_result",
          "data": {
            "text/plain": [
              "<tensorflow.python.keras.callbacks.History at 0x7fb69c187518>"
            ]
          },
          "metadata": {
            "tags": []
          },
          "execution_count": 14
        }
      ]
    },
    {
      "cell_type": "markdown",
      "metadata": {
        "id": "FaVXWXiJLZrr",
        "colab_type": "text"
      },
      "source": [
        "트레이닝 이후 ae 함수를 다시 수행"
      ]
    },
    {
      "cell_type": "code",
      "metadata": {
        "id": "eTuDKTgSG-M-",
        "colab_type": "code",
        "colab": {}
      },
      "source": [
        "y_pred = ae(train_images)"
      ],
      "execution_count": 0,
      "outputs": []
    },
    {
      "cell_type": "code",
      "metadata": {
        "id": "iQghDFU01zlq",
        "colab_type": "code",
        "outputId": "4924bcb9-821f-431b-a876-6f2b81f2e8eb",
        "colab": {
          "base_uri": "https://localhost:8080/",
          "height": 250,
          "referenced_widgets": [
            "6cfc3e5e03264f6aa9150a090298ecb3",
            "83405c2319ed48b993648cc4fad6d6db",
            "986e11442e244a959c9970fed4a59e85",
            "c0b799a5d63b45969d044896b295ae4a",
            "81c47fadb7ed4219bd3014d670c64cee",
            "37f6fa5fef9a413b9bc1bd602c51dd77",
            "1fc8bd61e54043f7be0fbdff37ce76ef"
          ]
        }
      },
      "source": [
        "import ipywidgets as widgets\n",
        "\n",
        "def io_imshow(idx):\n",
        "  print('GT label:', train_labels[idx])\n",
        "  plt.subplot(121)\n",
        "  plt.imshow(train_images[idx,:,:,0])\n",
        "  plt.subplot(122)\n",
        "  plt.imshow(y_pred[idx,:,:,0])\n",
        "  plt.show()\n",
        "\n",
        "widgets.interact(io_imshow, idx=widgets.IntSlider(min=0, max=train_images.shape[0]-1, continuous_update=False));"
      ],
      "execution_count": 0,
      "outputs": [
        {
          "output_type": "display_data",
          "data": {
            "application/vnd.jupyter.widget-view+json": {
              "model_id": "6cfc3e5e03264f6aa9150a090298ecb3",
              "version_minor": 0,
              "version_major": 2
            },
            "text/plain": [
              "interactive(children=(IntSlider(value=0, continuous_update=False, description='idx', max=59999), Output()), _d…"
            ]
          },
          "metadata": {
            "tags": []
          }
        }
      ]
    },
    {
      "cell_type": "markdown",
      "metadata": {
        "id": "M1va3vB-Ml0T",
        "colab_type": "text"
      },
      "source": [
        "## 인코더 / 디코더 모델을 각각 따로 함수로서 활용하기\n",
        "다음과 같은 방법으로 트레이닝이 끝난 오토인코더의 enc와 dec를 각각 수행할 수 있다."
      ]
    },
    {
      "cell_type": "markdown",
      "metadata": {
        "id": "xNq4B0MOHnq6",
        "colab_type": "text"
      },
      "source": [
        ""
      ]
    },
    {
      "cell_type": "code",
      "metadata": {
        "id": "OPAL6mB6Ml4q",
        "colab_type": "code",
        "colab": {}
      },
      "source": [
        "z = enc(train_images)\n",
        "y_pred = dec(z)"
      ],
      "execution_count": 0,
      "outputs": []
    },
    {
      "cell_type": "markdown",
      "metadata": {
        "id": "VKKmMNaRMl9m",
        "colab_type": "text"
      },
      "source": [
        "## 인코딩 결과 확인 및 디코딩 결과 확인\n",
        "* 특정 이미지에 대한 인코딩 결과를 확인한다.\n",
        "* 인코딩 결과와 유사한 좌표값을 디코딩에 보내도 유사한 결과가 나옴을 확인한다."
      ]
    },
    {
      "cell_type": "code",
      "metadata": {
        "id": "3UtC_fMAMmDD",
        "colab_type": "code",
        "outputId": "857f76c3-b4b5-4e78-8eb3-ec8ec4c65537",
        "colab": {
          "base_uri": "https://localhost:8080/",
          "height": 84,
          "referenced_widgets": [
            "633afce082374f88bc719ebd74066b3d",
            "689f438ac89643158ca02682d64331eb",
            "0a510fe443514e20a78239b7ab396945",
            "edbb2db863484e06ad90655356167e42",
            "3706413b22304b7fa1cfa4db930571b4",
            "22d9d9836a4b46da839587ce2d35c42e",
            "0c7b20a026564dc9adb8c1529c724b6a"
          ]
        }
      },
      "source": [
        "import ipywidgets as widgets\n",
        "\n",
        "def z_show(idx):\n",
        "  print(z[idx])\n",
        "  print('GT label:', train_labels[idx])\n",
        "\n",
        "widgets.interact(z_show, idx=widgets.IntSlider(min=0, max=train_images.shape[0]-1));"
      ],
      "execution_count": 0,
      "outputs": [
        {
          "output_type": "display_data",
          "data": {
            "application/vnd.jupyter.widget-view+json": {
              "model_id": "633afce082374f88bc719ebd74066b3d",
              "version_minor": 0,
              "version_major": 2
            },
            "text/plain": [
              "interactive(children=(IntSlider(value=0, description='idx', max=59999), Output()), _dom_classes=('widget-inter…"
            ]
          },
          "metadata": {
            "tags": []
          }
        }
      ]
    },
    {
      "cell_type": "markdown",
      "metadata": {
        "id": "4feBpt_GMmHM",
        "colab_type": "text"
      },
      "source": [
        "인코딩 결과와 유사한 좌표값을 디코딩에 보내도 유사한 결과가 나옴을 확인"
      ]
    },
    {
      "cell_type": "code",
      "metadata": {
        "id": "sR09DF8eNObU",
        "colab_type": "code",
        "outputId": "c9f7cd7b-cd52-4b5e-8323-451ae2f3e2f6",
        "colab": {
          "base_uri": "https://localhost:8080/",
          "height": 314,
          "referenced_widgets": [
            "a3f62c82183044c9bd2bf33427f277d6",
            "fc6c38d52caf4dc1bcacdafc377cb09f",
            "42a23783ac8b429c9493965cfc9e5633",
            "686eba3ae8934551b9f65b8a936321e4",
            "2d372d9b03904bb8aa44476dbd45e98b",
            "8794752578c247e881ded4016b19dfc0",
            "09acd69684c64263be0bba15f7bcef9a",
            "cbb5505a3eff416ba3960a7b0aee6c4e",
            "ea03dae8b17e492585cf1d6be752761b",
            "b67b0daa0dfa419a8badb337237b27b0"
          ]
        }
      },
      "source": [
        "import ipywidgets as widgets\n",
        "\n",
        "u=widgets.FloatSlider(min=-5.0, max=5.0)\n",
        "v=widgets.FloatSlider(min=-5.0, max=5.0)\n",
        "\n",
        "ui = widgets.HBox([u,v])\n",
        "\n",
        "def z_test(u, v):\n",
        "  z_test = np.array([[u,v]])  \n",
        "  print(z_test)\n",
        "\n",
        "  img_gen = dec(z_test)\n",
        "  plt.imshow(img_gen[0,:,:,0])\n",
        "  plt.show()  \n",
        "\n",
        "out = widgets.interactive_output(z_test, {'u': u, 'v': v})\n",
        "\n",
        "display(ui, out)"
      ],
      "execution_count": 0,
      "outputs": [
        {
          "output_type": "display_data",
          "data": {
            "application/vnd.jupyter.widget-view+json": {
              "model_id": "a3f62c82183044c9bd2bf33427f277d6",
              "version_minor": 0,
              "version_major": 2
            },
            "text/plain": [
              "HBox(children=(FloatSlider(value=0.0, max=5.0, min=-5.0), FloatSlider(value=0.0, max=5.0, min=-5.0)))"
            ]
          },
          "metadata": {
            "tags": []
          }
        },
        {
          "output_type": "display_data",
          "data": {
            "application/vnd.jupyter.widget-view+json": {
              "model_id": "ea03dae8b17e492585cf1d6be752761b",
              "version_minor": 0,
              "version_major": 2
            },
            "text/plain": [
              "Output()"
            ]
          },
          "metadata": {
            "tags": []
          }
        }
      ]
    },
    {
      "cell_type": "markdown",
      "metadata": {
        "id": "E0sg9OLOMmQg",
        "colab_type": "text"
      },
      "source": [
        "## 인코딩 결과 가시화\n",
        "오토인코더의 encoder가 만들어 내는 representation인 z 값을 가시화 한다. "
      ]
    },
    {
      "cell_type": "code",
      "metadata": {
        "id": "uXRCE46YMmVx",
        "colab_type": "code",
        "colab": {}
      },
      "source": [
        "# 로딩된 MNIST 데이터 가시화\n",
        "import matplotlib.pyplot as plt\n",
        "\n",
        "z_list = []\n",
        "z_list[:] = []\n",
        "\n",
        "for i in range(0,10):\n",
        "  print(\"z_{} :\".format(i), z[train_labels==i].shape)\n",
        "  z_list.append(z[train_labels == i])\n",
        "\n",
        "colors = ['red', 'green', 'blue', 'orange', 'purple', 'brown', 'pink', 'gray', 'olive', 'cyan']\n",
        "\n",
        "for z, color in zip(z_list, colors):\n",
        "  plt.scatter(z[:,0], z[:,1], color = color)\n"
      ],
      "execution_count": 0,
      "outputs": []
    },
    {
      "cell_type": "markdown",
      "metadata": {
        "id": "1vJpbg-dbPsF",
        "colab_type": "text"
      },
      "source": [
        "## 인코딩 결과 가시화를 통해 알 수 있는 점\n",
        "오토인코더의 encoder가 만들어 내는 representation인 z 값을 가시화를 해본 결과 label별로 discriminative한 representation을 만들어내지 못하는 것을 알 수 있다."
      ]
    },
    {
      "cell_type": "markdown",
      "metadata": {
        "id": "n2bzpga1Mmai",
        "colab_type": "text"
      },
      "source": [
        "## 디코더를 이용한 Generative Model 구성"
      ]
    },
    {
      "cell_type": "code",
      "metadata": {
        "id": "AX8bs6B1MmfW",
        "colab_type": "code",
        "outputId": "316f6acf-dc77-4dc8-8853-110f60fd6abc",
        "colab": {
          "base_uri": "https://localhost:8080/",
          "height": 52
        }
      },
      "source": [
        "z = np.array([[-1, 0.2], \n",
        "              [0.5, 0.5], \n",
        "              [5, -5]\n",
        "             ])\n",
        "\n",
        "result = dec(z)\n",
        "\n",
        "print(z.shape)\n",
        "print(result.shape)"
      ],
      "execution_count": 0,
      "outputs": [
        {
          "output_type": "stream",
          "text": [
            "(3, 2)\n",
            "(3, 28, 28, 1)\n"
          ],
          "name": "stdout"
        }
      ]
    },
    {
      "cell_type": "markdown",
      "metadata": {
        "id": "Z9nrcamnMmjn",
        "colab_type": "text"
      },
      "source": [
        "결과 가시화\n",
        " + [-1, 0.2]는 숫자 8의 분포에 속한다.\n",
        " + [0.5, 0.5]는 숫자 6의 분포에 속한다.\n",
        " + [5, -5]는 숫자 0의 분포에 속한다.\n",
        "* 하지만, 8을 보면 5와 8의 애매한 경계선에 있는 것 같다.\n",
        "* 이를 통해, 분포가 겹치는 것을 확인할 수 있다.\n",
        "* 이 때문에 condition을 주어 분포가 겹치지 않게 하는 conditional autoencoder가 나오게 되었다."
      ]
    },
    {
      "cell_type": "code",
      "metadata": {
        "id": "JJRaZTjgMmoI",
        "colab_type": "code",
        "outputId": "2101739e-9018-4355-9458-26e424ec8f50",
        "colab": {
          "base_uri": "https://localhost:8080/",
          "height": 166
        }
      },
      "source": [
        "# 로딩된 MNIST 데이터 가시화\n",
        "import matplotlib.pyplot as plt\n",
        "\n",
        "plt.subplot(131)\n",
        "plt.imshow(result[0,:,:,0])\n",
        "plt.subplot(132)\n",
        "plt.imshow(result[1,:,:,0])\n",
        "plt.subplot(133)\n",
        "plt.imshow(result[2,:,:,0])"
      ],
      "execution_count": 0,
      "outputs": [
        {
          "output_type": "execute_result",
          "data": {
            "text/plain": [
              "<matplotlib.image.AxesImage at 0x7fb2baff5198>"
            ]
          },
          "metadata": {
            "tags": []
          },
          "execution_count": 22
        },
        {
          "output_type": "display_data",
          "data": {
            "image/png": "[encoded data removed]",
            "text/plain": [
              "<Figure size 432x288 with 3 Axes>"
            ]
          },
          "metadata": {
            "tags": [],
            "needs_background": "light"
          }
        }
      ]
    },
    {
      "cell_type": "markdown",
      "metadata": {
        "id": "fqk8VeaYck-S",
        "colab_type": "text"
      },
      "source": [
        "## 차원 늘리기\n",
        "n_dim을 2에서 7로 늘려본다."
      ]
    },
    {
      "cell_type": "code",
      "metadata": {
        "id": "NxFdsSemwXEU",
        "colab_type": "code",
        "colab": {}
      },
      "source": [
        "n_dim = 7"
      ],
      "execution_count": 0,
      "outputs": []
    },
    {
      "cell_type": "markdown",
      "metadata": {
        "id": "fzBa6070cyqj",
        "colab_type": "text"
      },
      "source": [
        "## 인코딩 모델 정의"
      ]
    },
    {
      "cell_type": "code",
      "metadata": {
        "id": "m0KpQchdFZZ9",
        "colab_type": "code",
        "colab": {}
      },
      "source": [
        "enc = tf.keras.models.Sequential([\n",
        "  tf.keras.layers.Conv2D(8, (2,2), activation='relu', padding='same', input_shape=(28,28,1)),\n",
        "  tf.keras.layers.MaxPooling2D((2,2), padding='same'),\n",
        "  tf.keras.layers.Conv2D(8, (2,2), activation='relu', padding='same'),\n",
        "  tf.keras.layers.MaxPooling2D((2,2), padding='same'),\n",
        "  tf.keras.layers.Flatten(),\n",
        "  tf.keras.layers.Dense(128, activation='relu'),\n",
        "  tf.keras.layers.Dense(64, activation='relu'),\n",
        "  tf.keras.layers.Dense(n_dim)\n",
        "])"
      ],
      "execution_count": 0,
      "outputs": []
    },
    {
      "cell_type": "markdown",
      "metadata": {
        "id": "z825u8ptc2Ij",
        "colab_type": "text"
      },
      "source": [
        "## 디코딩 모델 정의"
      ]
    },
    {
      "cell_type": "code",
      "metadata": {
        "id": "_Ggwjge2FeXA",
        "colab_type": "code",
        "colab": {}
      },
      "source": [
        "dec = tf.keras.models.Sequential([\n",
        "  tf.keras.layers.InputLayer(input_shape=(n_dim,)),   # 주의: 반드시 1D tensor를 (ndim, )로 표현할 것\n",
        "  tf.keras.layers.Dense(64, activation='relu'),\n",
        "  tf.keras.layers.Dense(128, activation='relu'),\n",
        "  tf.keras.layers.Dense(392, activation='relu'),\n",
        "  tf.keras.layers.Reshape(target_shape=(7,7,8)),\n",
        "  tf.keras.layers.Conv2D(8, (2,2), activation='relu', padding='same'),\n",
        "  tf.keras.layers.UpSampling2D((2,2)),\n",
        "  tf.keras.layers.Conv2D(8, (2,2), activation='relu', padding='same'),\n",
        "  tf.keras.layers.UpSampling2D((2,2)),\n",
        "  tf.keras.layers.Conv2D(1, (2,2), activation='sigmoid', padding='same'),\n",
        "])"
      ],
      "execution_count": 0,
      "outputs": []
    },
    {
      "cell_type": "markdown",
      "metadata": {
        "id": "qBHQFI4ec_ab",
        "colab_type": "text"
      },
      "source": [
        "## AutoEncoder 정의"
      ]
    },
    {
      "cell_type": "code",
      "metadata": {
        "id": "vyR4lm5hFiQ4",
        "colab_type": "code",
        "colab": {}
      },
      "source": [
        "ae = tf.keras.models.Sequential([\n",
        "  enc,\n",
        "  dec,                               \n",
        "])"
      ],
      "execution_count": 0,
      "outputs": []
    },
    {
      "cell_type": "markdown",
      "metadata": {
        "id": "AXWthloXdCqi",
        "colab_type": "text"
      },
      "source": [
        "## 네트워크 학습"
      ]
    },
    {
      "cell_type": "code",
      "metadata": {
        "id": "dfguxd1jFs1t",
        "colab_type": "code",
        "outputId": "a6ce3477-04bd-4a2c-811a-2b6664425297",
        "colab": {
          "base_uri": "https://localhost:8080/",
          "height": 386
        }
      },
      "source": [
        "ae.compile(optimizer='Adam', # optimizer의 name 혹은 함수 객체 설정\n",
        "           loss='mse', \n",
        "           metrics=['mae'])\n",
        "\n",
        "ae.fit(train_images, train_images, epochs=10, batch_size=32)"
      ],
      "execution_count": 0,
      "outputs": [
        {
          "output_type": "stream",
          "text": [
            "Epoch 1/10\n",
            "1875/1875 [==============================] - 6s 3ms/step - loss: 0.0443 - mae: 0.1027\n",
            "Epoch 2/10\n",
            "1875/1875 [==============================] - 6s 3ms/step - loss: 0.0264 - mae: 0.0672\n",
            "Epoch 3/10\n",
            "1875/1875 [==============================] - 6s 3ms/step - loss: 0.0238 - mae: 0.0620\n",
            "Epoch 4/10\n",
            "1875/1875 [==============================] - 6s 3ms/step - loss: 0.0225 - mae: 0.0592\n",
            "Epoch 5/10\n",
            "1875/1875 [==============================] - 6s 3ms/step - loss: 0.0216 - mae: 0.0575\n",
            "Epoch 6/10\n",
            "1875/1875 [==============================] - 6s 3ms/step - loss: 0.0210 - mae: 0.0562\n",
            "Epoch 7/10\n",
            "1875/1875 [==============================] - 6s 3ms/step - loss: 0.0206 - mae: 0.0552\n",
            "Epoch 8/10\n",
            "1875/1875 [==============================] - 6s 3ms/step - loss: 0.0202 - mae: 0.0544\n",
            "Epoch 9/10\n",
            "1875/1875 [==============================] - 6s 3ms/step - loss: 0.0199 - mae: 0.0538\n",
            "Epoch 10/10\n",
            "1875/1875 [==============================] - 6s 3ms/step - loss: 0.0196 - mae: 0.0533\n"
          ],
          "name": "stdout"
        },
        {
          "output_type": "execute_result",
          "data": {
            "text/plain": [
              "<tensorflow.python.keras.callbacks.History at 0x7fb2baea30b8>"
            ]
          },
          "metadata": {
            "tags": []
          },
          "execution_count": 27
        }
      ]
    },
    {
      "cell_type": "markdown",
      "metadata": {
        "id": "pGzTHSyzdbBW",
        "colab_type": "text"
      },
      "source": [
        "## 학습된 결과 확인"
      ]
    },
    {
      "cell_type": "code",
      "metadata": {
        "id": "Up50B5VmFtr0",
        "colab_type": "code",
        "colab": {}
      },
      "source": [
        "y_pred = ae(train_images)"
      ],
      "execution_count": 0,
      "outputs": []
    },
    {
      "cell_type": "code",
      "metadata": {
        "id": "h-C_T-3qFyDQ",
        "colab_type": "code",
        "outputId": "44e2d8bd-2615-4346-f804-b161d2a26e71",
        "colab": {
          "base_uri": "https://localhost:8080/",
          "height": 250,
          "referenced_widgets": [
            "a51d9e4e284540b2911bb31b1ad2175b",
            "eef3be096ebe4bbd86c306975eedb7de",
            "1ce426c36c4841d48e685aead70eba3c",
            "f5fd20afb9794f43a17c932b8bcf45d2",
            "662328d1674643309a5b1955abb15fdd",
            "64fdac27cd014ba7adb0fbe8fe54f3f8",
            "6c2cdc3c34b7482caa928eb5a178253e"
          ]
        }
      },
      "source": [
        "import ipywidgets as widgets\n",
        "\n",
        "def io_imshow(idx):\n",
        "  print('GT label:', train_labels[idx])\n",
        "  plt.subplot(121)\n",
        "  plt.imshow(train_images[idx,:,:,0])\n",
        "  plt.subplot(122)\n",
        "  plt.imshow(y_pred[idx,:,:,0])\n",
        "  plt.show()\n",
        "\n",
        "widgets.interact(io_imshow, idx=widgets.IntSlider(min=0, max=train_images.shape[0]-1, continuous_update=False));"
      ],
      "execution_count": 0,
      "outputs": [
        {
          "output_type": "display_data",
          "data": {
            "application/vnd.jupyter.widget-view+json": {
              "model_id": "a51d9e4e284540b2911bb31b1ad2175b",
              "version_minor": 0,
              "version_major": 2
            },
            "text/plain": [
              "interactive(children=(IntSlider(value=0, continuous_update=False, description='idx', max=59999), Output()), _d…"
            ]
          },
          "metadata": {
            "tags": []
          }
        }
      ]
    },
    {
      "cell_type": "markdown",
      "metadata": {
        "id": "BfxWlTqhdhPK",
        "colab_type": "text"
      },
      "source": [
        "## 인코더 결과값 확인"
      ]
    },
    {
      "cell_type": "code",
      "metadata": {
        "id": "yLZeEKqMF1Bt",
        "colab_type": "code",
        "colab": {}
      },
      "source": [
        "z = enc(train_images)\n",
        "y_pred = dec(z)"
      ],
      "execution_count": 0,
      "outputs": []
    },
    {
      "cell_type": "code",
      "metadata": {
        "id": "4CUuPj4qGH69",
        "colab_type": "code",
        "outputId": "aa20d037-ac19-4b96-8ce9-b5503aedc495",
        "colab": {
          "base_uri": "https://localhost:8080/",
          "height": 119,
          "referenced_widgets": [
            "fe78dc535de9463096161fe6dccc6ed8",
            "2ea37efa097e4a6589a3facb271a9983",
            "ef444abde0634c8e9ca9700590c8d918",
            "26d87ce19ff74ebf83bf8477511fff85",
            "99fcbcbc8bdf450fb90a0fe02e14071a",
            "8b2dbe8b2db7494aa9a6ef1397d948ce",
            "fb7db1fb4a114d03b8bb3ec52437351b"
          ]
        }
      },
      "source": [
        "import ipywidgets as widgets\n",
        "\n",
        "def z_show(idx):\n",
        "  print(z[idx])\n",
        "  print('GT label:', train_labels[idx])\n",
        "\n",
        "widgets.interact(z_show, idx=widgets.IntSlider(min=0, max=train_images.shape[0]-1));"
      ],
      "execution_count": 0,
      "outputs": [
        {
          "output_type": "display_data",
          "data": {
            "application/vnd.jupyter.widget-view+json": {
              "model_id": "fe78dc535de9463096161fe6dccc6ed8",
              "version_minor": 0,
              "version_major": 2
            },
            "text/plain": [
              "interactive(children=(IntSlider(value=0, description='idx', max=59999), Output()), _dom_classes=('widget-inter…"
            ]
          },
          "metadata": {
            "tags": []
          }
        }
      ]
    },
    {
      "cell_type": "markdown",
      "metadata": {
        "id": "od4mfkoTeCe3",
        "colab_type": "text"
      },
      "source": [
        "## TSNE를 통해 인코더 결과값(7,7,8) 분포 가시화\n",
        "n_dim이 2일 때보다 좀 더 discriminative한 분포를 갖게 되었다."
      ]
    },
    {
      "cell_type": "code",
      "metadata": {
        "id": "hWEVkJVWMnvh",
        "colab_type": "code",
        "outputId": "e83a671b-a2d0-47ee-dd30-9caaf6a59df6",
        "colab": {
          "base_uri": "https://localhost:8080/",
          "height": 265
        }
      },
      "source": [
        "from sklearn.manifold import TSNE\n",
        "\n",
        "model = TSNE(learning_rate=100)\n",
        "transformed = model.fit_transform(z)\n",
        "\n",
        "xs = transformed[:,0]\n",
        "ys = transformed[:,1]\n",
        "plt.scatter(xs,ys,c=train_labels)\n",
        "\n",
        "plt.show()\n"
      ],
      "execution_count": 0,
      "outputs": [
        {
          "output_type": "display_data",
          "data": {
            "image/png": "[encoded data removed]",
            "text/plain": [
              "<Figure size 432x288 with 1 Axes>"
            ]
          },
          "metadata": {
            "tags": [],
            "needs_background": "light"
          }
        }
      ]
    }
  ]
}